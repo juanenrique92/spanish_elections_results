{
 "cells": [
  {
   "attachments": {},
   "cell_type": "markdown",
   "id": "268386b3-f3fd-4e0e-a05d-f46af2fa0b9b",
   "metadata": {},
   "source": [
    "### Notebook explotar la información electoral de las elecciones generales al Congreso de los Diputados"
   ]
  },
  {
   "attachments": {},
   "cell_type": "markdown",
   "id": "dbf321bd",
   "metadata": {},
   "source": [
    "\n",
    "Este notebook ha sido creado para obtener archivos geoespaciales (geojson y/ shapefile) con la información de los resultados electorales a nivel de sección censal.\n",
    "\n",
    "Desde el Ministerio del Interior de España se pone a disposición de los ciudadanos la información relativa a las elecciones en 3 niveles: mesa electoral, municipio y superior a municipio.\n",
    "\n",
    "En el contexto de las elecciones en España, las mesas electorales forman parte de la Administración Electoral, junto con las Juntas Electorales. A la Mesa electoral le corresponde presidir el acto de la votación, controlar el desarrollo de la votación y realizar el recuento y el escrutinio.\n",
    "\n",
    "En términos geográficos cada sección censal* esta compuesta por al menos una mesa electoral (esto dependerá del volumen de personas adscritas a dicha sección censal), por lo que para explotar los datos con el objetivo de poder representar los resultados geográficamente debemos agregar los resultados de las mesas electorales hasta el nivel de sección censal.\n",
    "\n",
    "En el código cargaremos los datos relativos a las elecciones generales del 23 de julio de 2023 al congreso de los Diputados a nivel de mesa electoral, los datos relativos a las identificaciones de los partidos políticos y las geometrías de las secciones censales con el objetivo de configurar un fichero único.\n",
    "\n",
    "En función de la elección del usuario se generarán distintos outputs, en primer lugar, se podrá determinar en función del tipo de archivo generado:\n",
    "\n",
    "- GeoJson: formato estándar abierto diseñado para representar elementos geográficos sencillos, junto con sus atributos no espaciales, basado en JavaScript Object Notation.\n",
    "\n",
    "- ShapeFile: formato ESRI Shapefile (SHP) es un formato de archivo informático propietario de datos espaciales desarrollado por la compañía ESRI, quien crea y comercializa software para Sistemas de Información Geográfica como Arc/Info o ArcGIS.\n",
    "\n",
    "Por otro lado, el usuario puede determinar qué tipo de dato quiere generar:\n",
    "\n",
    "- *votos_secciones*: este será el output generado que dispondrá de la información agregada por sección censal para todos los partidos, así como sus datos geométricos para la representación.\n",
    "- *votos_secciones_simp*: mismo concepto que *votos_secciones* pero en este caso los partidos menos representativos* se agregan en la categoría *OTROS*.\n",
    "- *votos_ganador*: Para determinadas visualizaciones se ha considerado interesante generar un fichero ligero que únicamente muestre el partido más votado por sección censal.\n",
    "\n",
    "\n",
    "\n",
    "\n",
    "*Se consideran poco representativos y susceptibles de entrar en la categoría \"OTROS\" todos aquellos partidos que no superen un mínimo del 1,5% d votos a nivel provincial.\n",
    "\n"
   ]
  },
  {
   "attachments": {},
   "cell_type": "markdown",
   "id": "38b90985",
   "metadata": {},
   "source": [
    "**Requerimientos**\n",
    "\n",
    "Especificamos las librerías requeridas para la ejecución de los procesos:\n",
    "\n",
    "- pandas >= 2.2.1\n",
    "- geopandas >= 0.14.2\n",
    "\n",
    "Versión de python utilizada: 3.10.13"
   ]
  },
  {
   "cell_type": "code",
   "execution_count": 1,
   "id": "4fb9fc68",
   "metadata": {},
   "outputs": [],
   "source": [
    "# -*- coding: utf-8 -*-\n",
    "import os\n",
    "import shutil\n",
    "import zipfile\n",
    "import pandas as pd\n",
    "import geopandas as gpd"
   ]
  },
  {
   "attachments": {},
   "cell_type": "markdown",
   "id": "6778cc92-98f1-40cd-8e72-e39b9a3c3e10",
   "metadata": {},
   "source": [
    "**Extensión de los archivos geospaciales resultantes:**"
   ]
  },
  {
   "cell_type": "code",
   "execution_count": 77,
   "id": "7b7660fd-bc48-4a38-a54b-9e6bf06a5288",
   "metadata": {},
   "outputs": [],
   "source": [
    "save_as_geojson = True\n",
    "save_as_shapefile = True\n"
   ]
  },
  {
   "attachments": {},
   "cell_type": "markdown",
   "id": "d081740f",
   "metadata": {},
   "source": [
    "**Outputs a exportar**"
   ]
  },
  {
   "cell_type": "code",
   "execution_count": 76,
   "id": "e937142e",
   "metadata": {},
   "outputs": [],
   "source": [
    "save_alldata = False\n",
    "save_simplified = False\n",
    "save_winner = True"
   ]
  },
  {
   "attachments": {},
   "cell_type": "markdown",
   "id": "1d765138",
   "metadata": {},
   "source": [
    "<a id='1'></a>"
   ]
  },
  {
   "attachments": {},
   "cell_type": "markdown",
   "id": "d33c7709",
   "metadata": {},
   "source": [
    "**Inputs necesarios**\n",
    "\n",
    "- Datos de los resultados a nivel mesa electoral.\n",
    "    - Fuente: [Ministerio del Interior](https://infoelectoral.interior.gob.es/es/elecciones-celebradas/area-de-descargas/)\n",
    "- Geometrías de las secciones censales.\n",
    "    - Fuente: [Instituto Nacional de Estadística](https://www.ine.es/ss/Satellite?L=es_ES&c=Page&cid=1259952026632&p=1259952026632&pagename=ProductosYServicios%2FPYSLayout)\n",
    "\n",
    "Ambos conjuntos de datos estan incorporados dentro de la carpeta /data/inputs/ como: *02202307_MESA.zip* y *seccionado.zip*"
   ]
  },
  {
   "cell_type": "code",
   "execution_count": 4,
   "id": "2ca7e62f",
   "metadata": {},
   "outputs": [],
   "source": [
    "# Establecemos la ruta a la raiz donde estaran los inputs y outputs\n",
    "nb_path = os.path.join(os.getcwd(), 'data').replace('\\\\', '/')\n",
    "# Definimos la ruta de outputs y creamos la carpeta de guardado\n",
    "out_path = nb_path+'/outputs/'\n",
    "os.makedirs(out_path, exist_ok=True)"
   ]
  },
  {
   "attachments": {},
   "cell_type": "markdown",
   "id": "14c62b8b-e970-49ad-adac-4defbe60ab33",
   "metadata": {},
   "source": [
    "### 1. Descomprimir inputs"
   ]
  },
  {
   "cell_type": "code",
   "execution_count": 5,
   "id": "a1d3d755-77d0-437a-ae49-bdc21659fc54",
   "metadata": {},
   "outputs": [],
   "source": [
    "# Función para descomprimir en una carpeta temporal\n",
    "def unzip(zip, temp):\n",
    "    with zipfile.ZipFile(zip, 'r') as archivo_zip:\n",
    "        archivo_zip.extractall(path=temp)"
   ]
  },
  {
   "attachments": {},
   "cell_type": "markdown",
   "id": "1bdbb73e-d998-4fbe-8ac5-500f75077302",
   "metadata": {},
   "source": [
    "#### 1.1 Descomprimir ficheros y cargar datos de los resultados de las elecciones generales\n",
    "\n",
    "Al descomprimir se generan 12 archivos, de los cuales 2 son documentación y los 10 restantes ficheros .DAT que contienen la información a explotar (*03022307.DAT* contiene la información relativa a las nomenclaturas de los partidos políticos y *10022307.DAT* la información relativa a los resultados por partido y mesa electoral)."
   ]
  },
  {
   "cell_type": "code",
   "execution_count": 6,
   "id": "607818d9-d148-45e7-8e5f-ef62e760508c",
   "metadata": {},
   "outputs": [],
   "source": [
    "# Establecemos el nombre del fichero a descomprimir que contiene la información de las elecciones\n",
    "zip_path = nb_path + '//inputs//02202307_MESA.zip'\n",
    "# Nombramos una carpeta temporal donde descomprimir\n",
    "temp_folder = r'data/inputs/temp'\n",
    "#Llamamos a nuestra función de descompresión\n",
    "unzip(zip_path,temp_folder)"
   ]
  },
  {
   "cell_type": "code",
   "execution_count": 7,
   "id": "48c73db0-83f6-4ec7-b5dc-b2d3e3c87b15",
   "metadata": {},
   "outputs": [
    {
     "data": {
      "text/html": [
       "<div>\n",
       "<style scoped>\n",
       "    .dataframe tbody tr th:only-of-type {\n",
       "        vertical-align: middle;\n",
       "    }\n",
       "\n",
       "    .dataframe tbody tr th {\n",
       "        vertical-align: top;\n",
       "    }\n",
       "\n",
       "    .dataframe thead th {\n",
       "        text-align: right;\n",
       "    }\n",
       "</style>\n",
       "<table border=\"1\" class=\"dataframe\">\n",
       "  <thead>\n",
       "    <tr style=\"text-align: right;\">\n",
       "      <th></th>\n",
       "      <th>0</th>\n",
       "      <th>1</th>\n",
       "      <th>2</th>\n",
       "    </tr>\n",
       "  </thead>\n",
       "  <tbody>\n",
       "    <tr>\n",
       "      <th>0</th>\n",
       "      <td>02202307000001FO</td>\n",
       "      <td>FRENTE OBRERO</td>\n",
       "      <td>000001000001000001</td>\n",
       "    </tr>\n",
       "    <tr>\n",
       "      <th>1</th>\n",
       "      <td>02202307000002PSOE</td>\n",
       "      <td>PARTIDO SOCIALISTA OBRERO ESPAÑOL</td>\n",
       "      <td>000002000002000002</td>\n",
       "    </tr>\n",
       "    <tr>\n",
       "      <th>2</th>\n",
       "      <td>02202307000003PUM+J</td>\n",
       "      <td>POR UN MUNDO MÁS JUSTO</td>\n",
       "      <td>000003000003000003</td>\n",
       "    </tr>\n",
       "  </tbody>\n",
       "</table>\n",
       "</div>"
      ],
      "text/plain": [
       "                     0                                  1                   2\n",
       "0     02202307000001FO                      FRENTE OBRERO  000001000001000001\n",
       "1   02202307000002PSOE  PARTIDO SOCIALISTA OBRERO ESPAÑOL  000002000002000002\n",
       "2  02202307000003PUM+J             POR UN MUNDO MÁS JUSTO  000003000003000003"
      ]
     },
     "execution_count": 7,
     "metadata": {},
     "output_type": "execute_result"
    }
   ],
   "source": [
    "# Una vez descomprimido, cargamos el archivo en un dataframe de pandas\n",
    "parties_path = os.path.join(temp_folder, '03022307.DAT')\n",
    "parties = pd.read_csv(parties_path, sep='\\s{2,}', encoding='ISO-8859-1', header=None, dtype=str, engine='python')\n",
    "parties.head(3)"
   ]
  },
  {
   "cell_type": "code",
   "execution_count": 8,
   "id": "ffca7bfd-d787-42e3-a466-f6e60bec73ac",
   "metadata": {},
   "outputs": [
    {
     "data": {
      "text/html": [
       "<div>\n",
       "<style scoped>\n",
       "    .dataframe tbody tr th:only-of-type {\n",
       "        vertical-align: middle;\n",
       "    }\n",
       "\n",
       "    .dataframe tbody tr th {\n",
       "        vertical-align: top;\n",
       "    }\n",
       "\n",
       "    .dataframe thead th {\n",
       "        text-align: right;\n",
       "    }\n",
       "</style>\n",
       "<table border=\"1\" class=\"dataframe\">\n",
       "  <thead>\n",
       "    <tr style=\"text-align: right;\">\n",
       "      <th></th>\n",
       "      <th>0</th>\n",
       "    </tr>\n",
       "  </thead>\n",
       "  <tbody>\n",
       "    <tr>\n",
       "      <th>0</th>\n",
       "      <td>022023071010400101001 A0000010000001</td>\n",
       "    </tr>\n",
       "    <tr>\n",
       "      <th>1</th>\n",
       "      <td>022023071010400101001 A0000020000122</td>\n",
       "    </tr>\n",
       "    <tr>\n",
       "      <th>2</th>\n",
       "      <td>022023071010400101001 A0000030000000</td>\n",
       "    </tr>\n",
       "  </tbody>\n",
       "</table>\n",
       "</div>"
      ],
      "text/plain": [
       "                                      0\n",
       "0  022023071010400101001 A0000010000001\n",
       "1  022023071010400101001 A0000020000122\n",
       "2  022023071010400101001 A0000030000000"
      ]
     },
     "execution_count": 8,
     "metadata": {},
     "output_type": "execute_result"
    }
   ],
   "source": [
    "# Definimos la ruta del archivo y cargamos como dataframe\n",
    "data_path = nb_path + '//inputs//temp//10022307.DAT'\n",
    "data = pd.read_csv(data_path, sep=',', encoding='ISO-8859-1', header=None)\n",
    "# Mostramos los primeros 3 registros del df\n",
    "data.head(3)"
   ]
  },
  {
   "attachments": {},
   "cell_type": "markdown",
   "id": "5245962b-4308-461b-934e-df226417325b",
   "metadata": {},
   "source": [
    "#### 1.2 Descomprimir fichero y cargar geometrías de las secciones censales\n",
    "Se descomprime una carpeta intermedia en la que encontraremos el archivo de extensión .shp asi como los archivos complementarios (.prj, .dbf, .sbn, etc.)."
   ]
  },
  {
   "cell_type": "code",
   "execution_count": 9,
   "id": "545fa0ab-0c4f-49e6-906f-9430ed8c3982",
   "metadata": {},
   "outputs": [],
   "source": [
    "# Ruta del archivo zip y nombre del archivo dentro del zip que quieres leer\n",
    "zip_path = nb_path + '//inputs//seccionado_2023.zip'\n",
    "folder_zip = 'España_Seccionado2023_ETRS89H30/'\n",
    "unzip(zip_path,temp_folder)"
   ]
  },
  {
   "cell_type": "code",
   "execution_count": 10,
   "id": "65b3fb13-d7ec-41fe-b4e4-a544d9ab7fd9",
   "metadata": {},
   "outputs": [
    {
     "data": {
      "text/html": [
       "<div>\n",
       "<style scoped>\n",
       "    .dataframe tbody tr th:only-of-type {\n",
       "        vertical-align: middle;\n",
       "    }\n",
       "\n",
       "    .dataframe tbody tr th {\n",
       "        vertical-align: top;\n",
       "    }\n",
       "\n",
       "    .dataframe thead th {\n",
       "        text-align: right;\n",
       "    }\n",
       "</style>\n",
       "<table border=\"1\" class=\"dataframe\">\n",
       "  <thead>\n",
       "    <tr style=\"text-align: right;\">\n",
       "      <th></th>\n",
       "      <th>CUSEC</th>\n",
       "      <th>CUMUN</th>\n",
       "      <th>CSEC</th>\n",
       "      <th>CDIS</th>\n",
       "      <th>CMUN</th>\n",
       "      <th>CPRO</th>\n",
       "      <th>CCA</th>\n",
       "      <th>CUDIS</th>\n",
       "      <th>CLAU2</th>\n",
       "      <th>NPRO</th>\n",
       "      <th>NCA</th>\n",
       "      <th>CNUT0</th>\n",
       "      <th>CNUT1</th>\n",
       "      <th>CNUT2</th>\n",
       "      <th>CNUT3</th>\n",
       "      <th>NMUN</th>\n",
       "      <th>geometry</th>\n",
       "    </tr>\n",
       "  </thead>\n",
       "  <tbody>\n",
       "    <tr>\n",
       "      <th>0</th>\n",
       "      <td>0100101001</td>\n",
       "      <td>01001</td>\n",
       "      <td>001</td>\n",
       "      <td>01</td>\n",
       "      <td>001</td>\n",
       "      <td>01</td>\n",
       "      <td>16</td>\n",
       "      <td>0100101</td>\n",
       "      <td>01001</td>\n",
       "      <td>Araba/Álava</td>\n",
       "      <td>País Vasco</td>\n",
       "      <td>ES</td>\n",
       "      <td>2</td>\n",
       "      <td>1</td>\n",
       "      <td>1</td>\n",
       "      <td>Alegría-Dulantzi</td>\n",
       "      <td>MULTIPOLYGON (((539753.044 4743324.668, 539784...</td>\n",
       "    </tr>\n",
       "    <tr>\n",
       "      <th>1</th>\n",
       "      <td>0100101002</td>\n",
       "      <td>01001</td>\n",
       "      <td>002</td>\n",
       "      <td>01</td>\n",
       "      <td>001</td>\n",
       "      <td>01</td>\n",
       "      <td>16</td>\n",
       "      <td>0100101</td>\n",
       "      <td>01001</td>\n",
       "      <td>Araba/Álava</td>\n",
       "      <td>País Vasco</td>\n",
       "      <td>ES</td>\n",
       "      <td>2</td>\n",
       "      <td>1</td>\n",
       "      <td>1</td>\n",
       "      <td>Alegría-Dulantzi</td>\n",
       "      <td>POLYGON ((539559.740 4745571.157, 539562.677 4...</td>\n",
       "    </tr>\n",
       "    <tr>\n",
       "      <th>2</th>\n",
       "      <td>0100201001</td>\n",
       "      <td>01002</td>\n",
       "      <td>001</td>\n",
       "      <td>01</td>\n",
       "      <td>002</td>\n",
       "      <td>01</td>\n",
       "      <td>16</td>\n",
       "      <td>0100201</td>\n",
       "      <td>01002</td>\n",
       "      <td>Araba/Álava</td>\n",
       "      <td>País Vasco</td>\n",
       "      <td>ES</td>\n",
       "      <td>2</td>\n",
       "      <td>1</td>\n",
       "      <td>1</td>\n",
       "      <td>Amurrio</td>\n",
       "      <td>MULTIPOLYGON (((503618.553 4759559.798, 503620...</td>\n",
       "    </tr>\n",
       "  </tbody>\n",
       "</table>\n",
       "</div>"
      ],
      "text/plain": [
       "        CUSEC  CUMUN CSEC CDIS CMUN CPRO CCA    CUDIS  CLAU2         NPRO  \\\n",
       "0  0100101001  01001  001   01  001   01  16  0100101  01001  Araba/Álava   \n",
       "1  0100101002  01001  002   01  001   01  16  0100101  01001  Araba/Álava   \n",
       "2  0100201001  01002  001   01  002   01  16  0100201  01002  Araba/Álava   \n",
       "\n",
       "          NCA CNUT0 CNUT1 CNUT2 CNUT3              NMUN  \\\n",
       "0  País Vasco    ES     2     1     1  Alegría-Dulantzi   \n",
       "1  País Vasco    ES     2     1     1  Alegría-Dulantzi   \n",
       "2  País Vasco    ES     2     1     1           Amurrio   \n",
       "\n",
       "                                            geometry  \n",
       "0  MULTIPOLYGON (((539753.044 4743324.668, 539784...  \n",
       "1  POLYGON ((539559.740 4745571.157, 539562.677 4...  \n",
       "2  MULTIPOLYGON (((503618.553 4759559.798, 503620...  "
      ]
     },
     "execution_count": 10,
     "metadata": {},
     "output_type": "execute_result"
    }
   ],
   "source": [
    "# En este caso al descomprimir hay una carpeta intermedia que debemos añadir a la path\n",
    "shp_path = os.path.join(temp_folder, folder_zip, 'SECC_CE_20230101.shp')\n",
    "# Cargamos los resultados en un geodataframe\n",
    "census_gdf = gpd.read_file(shp_path)\n",
    "census_gdf.head(3)"
   ]
  },
  {
   "cell_type": "code",
   "execution_count": 11,
   "id": "c0239bc5-2841-4457-9ed0-19690cf042d6",
   "metadata": {},
   "outputs": [],
   "source": [
    "# Una vez cargados todos los datos, procedemos a eliminar la carpeta temporal\n",
    "shutil.rmtree(temp_folder)"
   ]
  },
  {
   "attachments": {},
   "cell_type": "markdown",
   "id": "040c010b-77a3-4e48-9d17-2bea76fac744",
   "metadata": {},
   "source": [
    "**Definimos funciones que serán utilizadas en el formateo y normalización de los datos**"
   ]
  },
  {
   "cell_type": "code",
   "execution_count": 12,
   "id": "011d4c5f",
   "metadata": {},
   "outputs": [],
   "source": [
    "# Creamos una función para formatear el dataframe de partidos políticos\n",
    "def clean_parties(df):\n",
    "    df[2] = df[2].astype('str')\n",
    "    df['id_partido_provincial'] = df[2].str[:6]\n",
    "    df['id_partido_autonomico'] = df[2].str[6:12]\n",
    "    df['id_partido_nacional'] = df[2].str[-6:]\n",
    "    df['partido'] = df[1]\n",
    "    df = df.drop([0,1,2], axis=1)\n",
    "    df = df.drop_duplicates()\n",
    "    return df"
   ]
  },
  {
   "cell_type": "code",
   "execution_count": 13,
   "id": "73ae0bc7",
   "metadata": {},
   "outputs": [],
   "source": [
    "# Renombramos los partidos para unificar terminología independientemente de su id_partido_xx\n",
    "def replacenames_duplicate_parties(df):\n",
    "    df.loc[df['id_partido_nacional'] == '000010', 'partido'] = 'SUMAR'\n",
    "    df.loc[df['id_partido_nacional'] == '000002', 'partido'] = 'PSOE'\n",
    "    df.loc[df['id_partido_nacional'] == '000015', 'partido'] = 'PCTE'\n",
    "    df.loc[df['id_partido_nacional'] == '000003', 'partido'] = 'POR UN MUNDO MÁS JUSTO'\n",
    "    df.loc[df['id_partido_nacional'] == '000005', 'partido'] = 'PP'\n",
    "    df.loc[df['id_partido_nacional'] == '000007', 'partido'] = 'PACMA'\n",
    "    df.loc[df['id_partido_nacional'] == '000014', 'partido'] = 'ESCAÑOS EN BLANCO PARA DEJAR ESCAÑOS VACÍOS'\n",
    "    df.loc[df['id_partido_nacional'] == '000023', 'partido'] = 'COALICIÓN EXISTE'\n",
    "    df.loc[df['id_partido_nacional'] == '000075', 'partido'] = 'PNV'\n",
    "\n",
    "    df.loc[df['id_partido_autonomico'] == '000030', 'partido'] = 'SUMAR'\n",
    "    df.loc[df['id_partido_autonomico'] == '000033', 'partido'] = 'SUMAR'\n",
    "    df.loc[df['id_partido_autonomico'] == '000066', 'partido'] = 'SUMAR'\n",
    "    df.loc[df['id_partido_autonomico'] == '000021', 'partido'] = 'SUMAR'\n",
    "    df.loc[df['id_partido_autonomico'] == '000011', 'partido'] = 'SUMAR'\n",
    "    df.loc[df['id_partido_autonomico'] == '000051', 'partido'] = 'SUMAR'\n",
    "    df.loc[df['id_partido_autonomico'] == '000067', 'partido'] = 'POR UN MUNDO MÁS JUSTO'\n",
    "\n",
    "    df.loc[df['id_partido_autonomico'] == '000072', 'partido'] = 'PSOE'\n",
    "    df.loc[df['id_partido_autonomico'] == '000029', 'partido'] = 'PSOE'\n",
    "    df.loc[df['id_partido_autonomico'] == '000076', 'partido'] = 'PSOE'\n",
    "    df.loc[df['id_partido_autonomico'] == '000056', 'partido'] = 'PP'\n",
    "    df.loc[df['id_partido_autonomico'] == '000064', 'partido'] = 'PSOE'\n",
    "    df.loc[df['id_partido_autonomico'] == '000068', 'partido'] = 'PCTE'\n",
    "    df.loc[df['id_partido_autonomico'] == '000078', 'partido'] = 'PCTE'\n",
    "    df.loc[df['id_partido_autonomico'] == '000068', 'partido'] = 'PCTE'\n",
    "    df.loc[df['id_partido_autonomico'] == '000082', 'partido'] = 'SUMAR'\n",
    "\n",
    "    df = df.drop_duplicates()\n",
    "    return df"
   ]
  },
  {
   "cell_type": "code",
   "execution_count": 14,
   "id": "3f9226a2",
   "metadata": {},
   "outputs": [],
   "source": [
    "# Unificamos los id provinciales, autonómicos y nacionales en un único id.\n",
    "def get_single_id(df):\n",
    "    df_prov = df[['id_partido_provincial','partido']]\n",
    "    df_prov = df_prov.rename(columns={'id_partido_provincial': 'id_partido'})\n",
    "\n",
    "    df_auto = df[['id_partido_autonomico','partido']]\n",
    "    df_auto = df_auto.rename(columns={'id_partido_autonomico': 'id_partido'})\n",
    "\n",
    "    df_nac = df[['id_partido_nacional','partido']]\n",
    "    df_nac = df_nac.rename(columns={'id_partido_nacional': 'id_partido'})\n",
    "\n",
    "    df_concat = pd.concat([df_prov, df_auto, df_nac])\n",
    "    df_concat = df_concat.drop_duplicates()\n",
    "\n",
    "    return df_concat"
   ]
  },
  {
   "cell_type": "code",
   "execution_count": 15,
   "id": "5673f2fa",
   "metadata": {},
   "outputs": [],
   "source": [
    "# Función para convertir un dataframe en un geodataframe\n",
    "def df2gdf(df, geometry_field, crs_type):\n",
    "    gdf = gpd.GeoDataFrame(df, geometry=geometry_field, crs=crs_type)\n",
    "    return gdf"
   ]
  },
  {
   "attachments": {},
   "cell_type": "markdown",
   "id": "f2d4edd2-cef6-4eb0-96ec-a3295758b7f2",
   "metadata": {},
   "source": [
    "### 2. Formateo partidos politicos df"
   ]
  },
  {
   "attachments": {},
   "cell_type": "markdown",
   "id": "86da0cae-7d9e-4fe7-87a8-1ce523e3d974",
   "metadata": {},
   "source": [
    "**Nota técnica: Partidos políticos**\n",
    "\n",
    "Tras separar los bloques por 2 o más espacios encontramos en la columna 2 los id relativos a la candidatura.\n",
    "\n",
    "Son 3 códigos: código de la candidatura cabecera de acumulación a nivel provincial (posiciones ), a nivel autonómico y a nivel nacional.\n",
    "\n",
    "Más info en el documento *FICHEROS.doc* que viene en el zip."
   ]
  },
  {
   "cell_type": "code",
   "execution_count": 16,
   "id": "9eed0e67",
   "metadata": {},
   "outputs": [
    {
     "data": {
      "text/html": [
       "<div>\n",
       "<style scoped>\n",
       "    .dataframe tbody tr th:only-of-type {\n",
       "        vertical-align: middle;\n",
       "    }\n",
       "\n",
       "    .dataframe tbody tr th {\n",
       "        vertical-align: top;\n",
       "    }\n",
       "\n",
       "    .dataframe thead th {\n",
       "        text-align: right;\n",
       "    }\n",
       "</style>\n",
       "<table border=\"1\" class=\"dataframe\">\n",
       "  <thead>\n",
       "    <tr style=\"text-align: right;\">\n",
       "      <th></th>\n",
       "      <th>id_partido_provincial</th>\n",
       "      <th>id_partido_autonomico</th>\n",
       "      <th>id_partido_nacional</th>\n",
       "      <th>partido</th>\n",
       "    </tr>\n",
       "  </thead>\n",
       "  <tbody>\n",
       "    <tr>\n",
       "      <th>0</th>\n",
       "      <td>000001</td>\n",
       "      <td>000001</td>\n",
       "      <td>000001</td>\n",
       "      <td>FRENTE OBRERO</td>\n",
       "    </tr>\n",
       "    <tr>\n",
       "      <th>1</th>\n",
       "      <td>000002</td>\n",
       "      <td>000002</td>\n",
       "      <td>000002</td>\n",
       "      <td>PARTIDO SOCIALISTA OBRERO ESPAÑOL</td>\n",
       "    </tr>\n",
       "    <tr>\n",
       "      <th>2</th>\n",
       "      <td>000003</td>\n",
       "      <td>000003</td>\n",
       "      <td>000003</td>\n",
       "      <td>POR UN MUNDO MÁS JUSTO</td>\n",
       "    </tr>\n",
       "  </tbody>\n",
       "</table>\n",
       "</div>"
      ],
      "text/plain": [
       "  id_partido_provincial id_partido_autonomico id_partido_nacional  \\\n",
       "0                000001                000001              000001   \n",
       "1                000002                000002              000002   \n",
       "2                000003                000003              000003   \n",
       "\n",
       "                             partido  \n",
       "0                      FRENTE OBRERO  \n",
       "1  PARTIDO SOCIALISTA OBRERO ESPAÑOL  \n",
       "2             POR UN MUNDO MÁS JUSTO  "
      ]
     },
     "execution_count": 16,
     "metadata": {},
     "output_type": "execute_result"
    }
   ],
   "source": [
    "# Formateamos el df de partidos políticos\n",
    "parties = clean_parties(parties)\n",
    "parties.head(3)"
   ]
  },
  {
   "cell_type": "code",
   "execution_count": 17,
   "id": "2daa7919",
   "metadata": {},
   "outputs": [
    {
     "data": {
      "text/html": [
       "<div>\n",
       "<style scoped>\n",
       "    .dataframe tbody tr th:only-of-type {\n",
       "        vertical-align: middle;\n",
       "    }\n",
       "\n",
       "    .dataframe tbody tr th {\n",
       "        vertical-align: top;\n",
       "    }\n",
       "\n",
       "    .dataframe thead th {\n",
       "        text-align: right;\n",
       "    }\n",
       "</style>\n",
       "<table border=\"1\" class=\"dataframe\">\n",
       "  <thead>\n",
       "    <tr style=\"text-align: right;\">\n",
       "      <th></th>\n",
       "      <th>id_partido_provincial</th>\n",
       "      <th>id_partido_autonomico</th>\n",
       "      <th>id_partido_nacional</th>\n",
       "      <th>partido</th>\n",
       "    </tr>\n",
       "  </thead>\n",
       "  <tbody>\n",
       "    <tr>\n",
       "      <th>0</th>\n",
       "      <td>000001</td>\n",
       "      <td>000001</td>\n",
       "      <td>000001</td>\n",
       "      <td>FRENTE OBRERO</td>\n",
       "    </tr>\n",
       "    <tr>\n",
       "      <th>1</th>\n",
       "      <td>000002</td>\n",
       "      <td>000002</td>\n",
       "      <td>000002</td>\n",
       "      <td>PSOE</td>\n",
       "    </tr>\n",
       "    <tr>\n",
       "      <th>2</th>\n",
       "      <td>000003</td>\n",
       "      <td>000003</td>\n",
       "      <td>000003</td>\n",
       "      <td>POR UN MUNDO MÁS JUSTO</td>\n",
       "    </tr>\n",
       "  </tbody>\n",
       "</table>\n",
       "</div>"
      ],
      "text/plain": [
       "  id_partido_provincial id_partido_autonomico id_partido_nacional  \\\n",
       "0                000001                000001              000001   \n",
       "1                000002                000002              000002   \n",
       "2                000003                000003              000003   \n",
       "\n",
       "                  partido  \n",
       "0           FRENTE OBRERO  \n",
       "1                    PSOE  \n",
       "2  POR UN MUNDO MÁS JUSTO  "
      ]
     },
     "execution_count": 17,
     "metadata": {},
     "output_type": "execute_result"
    }
   ],
   "source": [
    "# Renombramos los partidos politicos que se presentan con diferente nombre en distintos territorios\n",
    "parties = replacenames_duplicate_parties(parties)\n",
    "parties.head(3)"
   ]
  },
  {
   "cell_type": "code",
   "execution_count": 18,
   "id": "478958c1",
   "metadata": {},
   "outputs": [
    {
     "data": {
      "text/html": [
       "<div>\n",
       "<style scoped>\n",
       "    .dataframe tbody tr th:only-of-type {\n",
       "        vertical-align: middle;\n",
       "    }\n",
       "\n",
       "    .dataframe tbody tr th {\n",
       "        vertical-align: top;\n",
       "    }\n",
       "\n",
       "    .dataframe thead th {\n",
       "        text-align: right;\n",
       "    }\n",
       "</style>\n",
       "<table border=\"1\" class=\"dataframe\">\n",
       "  <thead>\n",
       "    <tr style=\"text-align: right;\">\n",
       "      <th></th>\n",
       "      <th>id_partido</th>\n",
       "      <th>partido</th>\n",
       "    </tr>\n",
       "  </thead>\n",
       "  <tbody>\n",
       "    <tr>\n",
       "      <th>0</th>\n",
       "      <td>000001</td>\n",
       "      <td>FRENTE OBRERO</td>\n",
       "    </tr>\n",
       "    <tr>\n",
       "      <th>1</th>\n",
       "      <td>000002</td>\n",
       "      <td>PSOE</td>\n",
       "    </tr>\n",
       "    <tr>\n",
       "      <th>2</th>\n",
       "      <td>000003</td>\n",
       "      <td>POR UN MUNDO MÁS JUSTO</td>\n",
       "    </tr>\n",
       "  </tbody>\n",
       "</table>\n",
       "</div>"
      ],
      "text/plain": [
       "  id_partido                 partido\n",
       "0     000001           FRENTE OBRERO\n",
       "1     000002                    PSOE\n",
       "2     000003  POR UN MUNDO MÁS JUSTO"
      ]
     },
     "execution_count": 18,
     "metadata": {},
     "output_type": "execute_result"
    }
   ],
   "source": [
    "# Unificamos los id de partido en uno único\n",
    "parties = get_single_id(parties)\n",
    "parties.head(3)"
   ]
  },
  {
   "attachments": {},
   "cell_type": "markdown",
   "id": "750d55f9",
   "metadata": {},
   "source": [
    "### 3. Formateo resultados electorales df\n",
    "Se obtendrán a partir del código del fichero los siguientes campos:\n",
    "- Comunidad Autónoma\n",
    "- Provincia\n",
    "- Municipio\n",
    "- Distrito y sección censal\n",
    "- Votos\n",
    "\n",
    "  \n",
    "Todos los valores obtenidos para los campos quedan definidos en el documento *FICHEROS.doc*"
   ]
  },
  {
   "cell_type": "code",
   "execution_count": 19,
   "id": "fca744cf-82a7-4178-8507-27e29fb89b9d",
   "metadata": {},
   "outputs": [
    {
     "data": {
      "text/html": [
       "<div>\n",
       "<style scoped>\n",
       "    .dataframe tbody tr th:only-of-type {\n",
       "        vertical-align: middle;\n",
       "    }\n",
       "\n",
       "    .dataframe tbody tr th {\n",
       "        vertical-align: top;\n",
       "    }\n",
       "\n",
       "    .dataframe thead th {\n",
       "        text-align: right;\n",
       "    }\n",
       "</style>\n",
       "<table border=\"1\" class=\"dataframe\">\n",
       "  <thead>\n",
       "    <tr style=\"text-align: right;\">\n",
       "      <th></th>\n",
       "      <th>0</th>\n",
       "    </tr>\n",
       "  </thead>\n",
       "  <tbody>\n",
       "    <tr>\n",
       "      <th>0</th>\n",
       "      <td>022023071010400101001 A0000010000001</td>\n",
       "    </tr>\n",
       "    <tr>\n",
       "      <th>1</th>\n",
       "      <td>022023071010400101001 A0000020000122</td>\n",
       "    </tr>\n",
       "    <tr>\n",
       "      <th>2</th>\n",
       "      <td>022023071010400101001 A0000030000000</td>\n",
       "    </tr>\n",
       "  </tbody>\n",
       "</table>\n",
       "</div>"
      ],
      "text/plain": [
       "                                      0\n",
       "0  022023071010400101001 A0000010000001\n",
       "1  022023071010400101001 A0000020000122\n",
       "2  022023071010400101001 A0000030000000"
      ]
     },
     "execution_count": 19,
     "metadata": {},
     "output_type": "execute_result"
    }
   ],
   "source": [
    "data.head(3)"
   ]
  },
  {
   "cell_type": "code",
   "execution_count": 20,
   "id": "cce33f41",
   "metadata": {},
   "outputs": [
    {
     "data": {
      "text/plain": [
       "(647309, 1)"
      ]
     },
     "execution_count": 20,
     "metadata": {},
     "output_type": "execute_result"
    }
   ],
   "source": [
    "# Mostramos la extensión del dataframe\n",
    "data.shape"
   ]
  },
  {
   "attachments": {},
   "cell_type": "markdown",
   "id": "2632fc1d-cd8d-4f55-8a31-fbf493d74b36",
   "metadata": {},
   "source": [
    "#### 3.1 Comunidad Autónoma"
   ]
  },
  {
   "cell_type": "code",
   "execution_count": 21,
   "id": "19eb88c1",
   "metadata": {},
   "outputs": [],
   "source": [
    "# Función para obtener la comunidad autónoma como id\n",
    "def get_region(df):\n",
    "    df['comunidad_autonoma'] = df[0].str[9:11]\n",
    "    return df"
   ]
  },
  {
   "cell_type": "code",
   "execution_count": 22,
   "id": "a7919ff2",
   "metadata": {},
   "outputs": [
    {
     "data": {
      "text/html": [
       "<div>\n",
       "<style scoped>\n",
       "    .dataframe tbody tr th:only-of-type {\n",
       "        vertical-align: middle;\n",
       "    }\n",
       "\n",
       "    .dataframe tbody tr th {\n",
       "        vertical-align: top;\n",
       "    }\n",
       "\n",
       "    .dataframe thead th {\n",
       "        text-align: right;\n",
       "    }\n",
       "</style>\n",
       "<table border=\"1\" class=\"dataframe\">\n",
       "  <thead>\n",
       "    <tr style=\"text-align: right;\">\n",
       "      <th></th>\n",
       "      <th>0</th>\n",
       "      <th>comunidad_autonoma</th>\n",
       "    </tr>\n",
       "  </thead>\n",
       "  <tbody>\n",
       "    <tr>\n",
       "      <th>0</th>\n",
       "      <td>022023071010400101001 A0000010000001</td>\n",
       "      <td>01</td>\n",
       "    </tr>\n",
       "    <tr>\n",
       "      <th>1</th>\n",
       "      <td>022023071010400101001 A0000020000122</td>\n",
       "      <td>01</td>\n",
       "    </tr>\n",
       "  </tbody>\n",
       "</table>\n",
       "</div>"
      ],
      "text/plain": [
       "                                      0 comunidad_autonoma\n",
       "0  022023071010400101001 A0000010000001                 01\n",
       "1  022023071010400101001 A0000020000122                 01"
      ]
     },
     "execution_count": 22,
     "metadata": {},
     "output_type": "execute_result"
    }
   ],
   "source": [
    "# Obtenemos la CCAA\n",
    "data = get_region(data)\n",
    "data.head(2)"
   ]
  },
  {
   "attachments": {},
   "cell_type": "markdown",
   "id": "70e09946-c98e-425f-8279-fc3a8ec04d7f",
   "metadata": {},
   "source": [
    "#### 3.2 Provincia"
   ]
  },
  {
   "cell_type": "code",
   "execution_count": 23,
   "id": "4da03ad8",
   "metadata": {},
   "outputs": [],
   "source": [
    "# Función para obtener la provincia como id y añadir el nombre\n",
    "def get_province(df):\n",
    "    df['provincia'] = df[0].str[11:13]\n",
    "    prov_data = {'01': 'Araba/Álava', '02': 'Albacete', '03': 'Alicante/Alacant', '04': 'Almería',\n",
    "                 '05': 'Ávila', '06': 'Badajoz', '07': 'Balears, Illes', '08': 'Barcelona', '09': 'Burgos',\n",
    "                 '10': 'Cáceres', '11': 'Cádiz', '12': 'Castellón/Castelló', '13': 'Ciudad Real', '14': 'Córdoba',\n",
    "                 '15': 'Coruña, A', '16': 'Cuenca', '17': 'Girona', '18': 'Granada', '19': 'Guadalajara', '20': 'Gipuzkoa',\n",
    "                 '21': 'Huelva', '22': 'Huesca', '23': 'Jaén', '24': 'León', '25': 'Lleida', '26': 'Rioja, La', '27': 'Lugo',\n",
    "                 '28': 'Madrid', '29': 'Málaga', '30': 'Murcia', '31': 'Navarra', '32': 'Ourense', '33': 'Asturias', '34': 'Palencia',\n",
    "                 '35': 'Palmas, Las', '36': 'Pontevedra', '37': 'Salamanca', '38': 'Santa Cruz de Tenerife', '39': 'Cantabria', '40': 'Segovia',\n",
    "                 '41': 'Sevilla', '42': 'Soria', '43': 'Tarragona', '44': 'Teruel', '45': 'Toledo', '46': 'Valencia/València', '47': 'Valladolid',\n",
    "                 '48': 'Bizkaia', '49': 'Zamora', '50': 'Zaragoza', '51': 'Ceuta', '52': 'Melilla'}\n",
    "    prov = pd.DataFrame(list(prov_data.items()), columns=['id_prov', 'provincia_nom'])\n",
    "    df = pd.merge(df, prov, left_on='provincia', right_on='id_prov', how='left')\n",
    "    df = df.drop(['id_prov'], axis=1)\n",
    "    return df"
   ]
  },
  {
   "cell_type": "code",
   "execution_count": 24,
   "id": "abf98756",
   "metadata": {
    "scrolled": true
   },
   "outputs": [
    {
     "data": {
      "text/html": [
       "<div>\n",
       "<style scoped>\n",
       "    .dataframe tbody tr th:only-of-type {\n",
       "        vertical-align: middle;\n",
       "    }\n",
       "\n",
       "    .dataframe tbody tr th {\n",
       "        vertical-align: top;\n",
       "    }\n",
       "\n",
       "    .dataframe thead th {\n",
       "        text-align: right;\n",
       "    }\n",
       "</style>\n",
       "<table border=\"1\" class=\"dataframe\">\n",
       "  <thead>\n",
       "    <tr style=\"text-align: right;\">\n",
       "      <th></th>\n",
       "      <th>0</th>\n",
       "      <th>comunidad_autonoma</th>\n",
       "      <th>provincia</th>\n",
       "      <th>provincia_nom</th>\n",
       "    </tr>\n",
       "  </thead>\n",
       "  <tbody>\n",
       "    <tr>\n",
       "      <th>0</th>\n",
       "      <td>022023071010400101001 A0000010000001</td>\n",
       "      <td>01</td>\n",
       "      <td>04</td>\n",
       "      <td>Almería</td>\n",
       "    </tr>\n",
       "    <tr>\n",
       "      <th>1</th>\n",
       "      <td>022023071010400101001 A0000020000122</td>\n",
       "      <td>01</td>\n",
       "      <td>04</td>\n",
       "      <td>Almería</td>\n",
       "    </tr>\n",
       "  </tbody>\n",
       "</table>\n",
       "</div>"
      ],
      "text/plain": [
       "                                      0 comunidad_autonoma provincia  \\\n",
       "0  022023071010400101001 A0000010000001                 01        04   \n",
       "1  022023071010400101001 A0000020000122                 01        04   \n",
       "\n",
       "  provincia_nom  \n",
       "0       Almería  \n",
       "1       Almería  "
      ]
     },
     "execution_count": 24,
     "metadata": {},
     "output_type": "execute_result"
    }
   ],
   "source": [
    "# Obtenemos la provincia\n",
    "data = get_province(data)\n",
    "data.head(2)"
   ]
  },
  {
   "attachments": {},
   "cell_type": "markdown",
   "id": "007f9309-5f33-46dc-bcd4-985d4b87357a",
   "metadata": {},
   "source": [
    "#### 3.3 Municipio"
   ]
  },
  {
   "cell_type": "code",
   "execution_count": 25,
   "id": "2f9d0e68",
   "metadata": {},
   "outputs": [],
   "source": [
    "# Función para obtener el id del municipio (id con formato INE: id_prov + id_muni)\n",
    "def get_municipality(df):\n",
    "    df['municipio'] = data[0].str[11:16]\n",
    "    return df"
   ]
  },
  {
   "cell_type": "code",
   "execution_count": 26,
   "id": "6725beff",
   "metadata": {},
   "outputs": [
    {
     "data": {
      "text/html": [
       "<div>\n",
       "<style scoped>\n",
       "    .dataframe tbody tr th:only-of-type {\n",
       "        vertical-align: middle;\n",
       "    }\n",
       "\n",
       "    .dataframe tbody tr th {\n",
       "        vertical-align: top;\n",
       "    }\n",
       "\n",
       "    .dataframe thead th {\n",
       "        text-align: right;\n",
       "    }\n",
       "</style>\n",
       "<table border=\"1\" class=\"dataframe\">\n",
       "  <thead>\n",
       "    <tr style=\"text-align: right;\">\n",
       "      <th></th>\n",
       "      <th>0</th>\n",
       "      <th>comunidad_autonoma</th>\n",
       "      <th>provincia</th>\n",
       "      <th>provincia_nom</th>\n",
       "      <th>municipio</th>\n",
       "    </tr>\n",
       "  </thead>\n",
       "  <tbody>\n",
       "    <tr>\n",
       "      <th>0</th>\n",
       "      <td>022023071010400101001 A0000010000001</td>\n",
       "      <td>01</td>\n",
       "      <td>04</td>\n",
       "      <td>Almería</td>\n",
       "      <td>04001</td>\n",
       "    </tr>\n",
       "    <tr>\n",
       "      <th>1</th>\n",
       "      <td>022023071010400101001 A0000020000122</td>\n",
       "      <td>01</td>\n",
       "      <td>04</td>\n",
       "      <td>Almería</td>\n",
       "      <td>04001</td>\n",
       "    </tr>\n",
       "  </tbody>\n",
       "</table>\n",
       "</div>"
      ],
      "text/plain": [
       "                                      0 comunidad_autonoma provincia  \\\n",
       "0  022023071010400101001 A0000010000001                 01        04   \n",
       "1  022023071010400101001 A0000020000122                 01        04   \n",
       "\n",
       "  provincia_nom municipio  \n",
       "0       Almería     04001  \n",
       "1       Almería     04001  "
      ]
     },
     "execution_count": 26,
     "metadata": {},
     "output_type": "execute_result"
    }
   ],
   "source": [
    "data = get_municipality(data)\n",
    "data.head(2)"
   ]
  },
  {
   "attachments": {},
   "cell_type": "markdown",
   "id": "bdf3f205-f21c-460c-8ab9-605368145765",
   "metadata": {},
   "source": [
    "#### 3.4 Distrito y Sección Censal"
   ]
  },
  {
   "cell_type": "code",
   "execution_count": 27,
   "id": "a9912be4",
   "metadata": {},
   "outputs": [],
   "source": [
    "# Función para obtener la sección censal (la seccion censal está compuesta por el distrito + sección censal, para formatear con el tipo de la geometría añadimos el municipio)\n",
    "def get_census_section(df):\n",
    "    df['seccion_censal'] = df[0].str[16:21]\n",
    "    df['seccion_censal'] = df['municipio'] + df['seccion_censal']\n",
    "    return df"
   ]
  },
  {
   "cell_type": "code",
   "execution_count": 28,
   "id": "d950f3c7",
   "metadata": {},
   "outputs": [
    {
     "data": {
      "text/html": [
       "<div>\n",
       "<style scoped>\n",
       "    .dataframe tbody tr th:only-of-type {\n",
       "        vertical-align: middle;\n",
       "    }\n",
       "\n",
       "    .dataframe tbody tr th {\n",
       "        vertical-align: top;\n",
       "    }\n",
       "\n",
       "    .dataframe thead th {\n",
       "        text-align: right;\n",
       "    }\n",
       "</style>\n",
       "<table border=\"1\" class=\"dataframe\">\n",
       "  <thead>\n",
       "    <tr style=\"text-align: right;\">\n",
       "      <th></th>\n",
       "      <th>0</th>\n",
       "      <th>comunidad_autonoma</th>\n",
       "      <th>provincia</th>\n",
       "      <th>provincia_nom</th>\n",
       "      <th>municipio</th>\n",
       "      <th>seccion_censal</th>\n",
       "    </tr>\n",
       "  </thead>\n",
       "  <tbody>\n",
       "    <tr>\n",
       "      <th>0</th>\n",
       "      <td>022023071010400101001 A0000010000001</td>\n",
       "      <td>01</td>\n",
       "      <td>04</td>\n",
       "      <td>Almería</td>\n",
       "      <td>04001</td>\n",
       "      <td>0400101001</td>\n",
       "    </tr>\n",
       "    <tr>\n",
       "      <th>1</th>\n",
       "      <td>022023071010400101001 A0000020000122</td>\n",
       "      <td>01</td>\n",
       "      <td>04</td>\n",
       "      <td>Almería</td>\n",
       "      <td>04001</td>\n",
       "      <td>0400101001</td>\n",
       "    </tr>\n",
       "    <tr>\n",
       "      <th>2</th>\n",
       "      <td>022023071010400101001 A0000030000000</td>\n",
       "      <td>01</td>\n",
       "      <td>04</td>\n",
       "      <td>Almería</td>\n",
       "      <td>04001</td>\n",
       "      <td>0400101001</td>\n",
       "    </tr>\n",
       "  </tbody>\n",
       "</table>\n",
       "</div>"
      ],
      "text/plain": [
       "                                      0 comunidad_autonoma provincia  \\\n",
       "0  022023071010400101001 A0000010000001                 01        04   \n",
       "1  022023071010400101001 A0000020000122                 01        04   \n",
       "2  022023071010400101001 A0000030000000                 01        04   \n",
       "\n",
       "  provincia_nom municipio seccion_censal  \n",
       "0       Almería     04001     0400101001  \n",
       "1       Almería     04001     0400101001  \n",
       "2       Almería     04001     0400101001  "
      ]
     },
     "execution_count": 28,
     "metadata": {},
     "output_type": "execute_result"
    }
   ],
   "source": [
    "# Obtenemos el distrito y sección censal\n",
    "data = get_census_section(data)\n",
    "data.head(3)"
   ]
  },
  {
   "attachments": {},
   "cell_type": "markdown",
   "id": "38325e08-f1b9-4b77-bc55-9edda767f69e",
   "metadata": {},
   "source": [
    "#### 3.5 Partido político"
   ]
  },
  {
   "cell_type": "code",
   "execution_count": 29,
   "id": "09ba011e",
   "metadata": {},
   "outputs": [],
   "source": [
    "# Función para obtener el id del partido político\n",
    "def get_id_partie(df):\n",
    "    df['id_partido'] = df[0].str[23:29]\n",
    "    return df"
   ]
  },
  {
   "cell_type": "code",
   "execution_count": 30,
   "id": "578d90ba",
   "metadata": {},
   "outputs": [
    {
     "data": {
      "text/html": [
       "<div>\n",
       "<style scoped>\n",
       "    .dataframe tbody tr th:only-of-type {\n",
       "        vertical-align: middle;\n",
       "    }\n",
       "\n",
       "    .dataframe tbody tr th {\n",
       "        vertical-align: top;\n",
       "    }\n",
       "\n",
       "    .dataframe thead th {\n",
       "        text-align: right;\n",
       "    }\n",
       "</style>\n",
       "<table border=\"1\" class=\"dataframe\">\n",
       "  <thead>\n",
       "    <tr style=\"text-align: right;\">\n",
       "      <th></th>\n",
       "      <th>0</th>\n",
       "      <th>comunidad_autonoma</th>\n",
       "      <th>provincia</th>\n",
       "      <th>provincia_nom</th>\n",
       "      <th>municipio</th>\n",
       "      <th>seccion_censal</th>\n",
       "      <th>id_partido</th>\n",
       "    </tr>\n",
       "  </thead>\n",
       "  <tbody>\n",
       "    <tr>\n",
       "      <th>0</th>\n",
       "      <td>022023071010400101001 A0000010000001</td>\n",
       "      <td>01</td>\n",
       "      <td>04</td>\n",
       "      <td>Almería</td>\n",
       "      <td>04001</td>\n",
       "      <td>0400101001</td>\n",
       "      <td>000001</td>\n",
       "    </tr>\n",
       "    <tr>\n",
       "      <th>1</th>\n",
       "      <td>022023071010400101001 A0000020000122</td>\n",
       "      <td>01</td>\n",
       "      <td>04</td>\n",
       "      <td>Almería</td>\n",
       "      <td>04001</td>\n",
       "      <td>0400101001</td>\n",
       "      <td>000002</td>\n",
       "    </tr>\n",
       "    <tr>\n",
       "      <th>2</th>\n",
       "      <td>022023071010400101001 A0000030000000</td>\n",
       "      <td>01</td>\n",
       "      <td>04</td>\n",
       "      <td>Almería</td>\n",
       "      <td>04001</td>\n",
       "      <td>0400101001</td>\n",
       "      <td>000003</td>\n",
       "    </tr>\n",
       "  </tbody>\n",
       "</table>\n",
       "</div>"
      ],
      "text/plain": [
       "                                      0 comunidad_autonoma provincia  \\\n",
       "0  022023071010400101001 A0000010000001                 01        04   \n",
       "1  022023071010400101001 A0000020000122                 01        04   \n",
       "2  022023071010400101001 A0000030000000                 01        04   \n",
       "\n",
       "  provincia_nom municipio seccion_censal id_partido  \n",
       "0       Almería     04001     0400101001     000001  \n",
       "1       Almería     04001     0400101001     000002  \n",
       "2       Almería     04001     0400101001     000003  "
      ]
     },
     "execution_count": 30,
     "metadata": {},
     "output_type": "execute_result"
    }
   ],
   "source": [
    "# Obtenemos el id de partido político, con este id podremos cruzar con la tabla anterior donde tenemos el nombre del partido\n",
    "data = get_id_partie(data)\n",
    "data.head(3)"
   ]
  },
  {
   "attachments": {},
   "cell_type": "markdown",
   "id": "4669a272",
   "metadata": {},
   "source": [
    "#### 3.6 Votos obtenidos"
   ]
  },
  {
   "cell_type": "code",
   "execution_count": 31,
   "id": "35f7108a",
   "metadata": {},
   "outputs": [],
   "source": [
    "# Función para retornar el valor de votos recibidos y lo casteamos como entero\n",
    "def get_votes(df):\n",
    "    df['votos'] = df[0].str[29:36]\n",
    "    df['votos'] = df['votos'].astype('int')\n",
    "    return df"
   ]
  },
  {
   "cell_type": "code",
   "execution_count": 32,
   "id": "5ecfc6a7",
   "metadata": {},
   "outputs": [
    {
     "data": {
      "text/html": [
       "<div>\n",
       "<style scoped>\n",
       "    .dataframe tbody tr th:only-of-type {\n",
       "        vertical-align: middle;\n",
       "    }\n",
       "\n",
       "    .dataframe tbody tr th {\n",
       "        vertical-align: top;\n",
       "    }\n",
       "\n",
       "    .dataframe thead th {\n",
       "        text-align: right;\n",
       "    }\n",
       "</style>\n",
       "<table border=\"1\" class=\"dataframe\">\n",
       "  <thead>\n",
       "    <tr style=\"text-align: right;\">\n",
       "      <th></th>\n",
       "      <th>0</th>\n",
       "      <th>comunidad_autonoma</th>\n",
       "      <th>provincia</th>\n",
       "      <th>provincia_nom</th>\n",
       "      <th>municipio</th>\n",
       "      <th>seccion_censal</th>\n",
       "      <th>id_partido</th>\n",
       "      <th>votos</th>\n",
       "    </tr>\n",
       "  </thead>\n",
       "  <tbody>\n",
       "    <tr>\n",
       "      <th>0</th>\n",
       "      <td>022023071010400101001 A0000010000001</td>\n",
       "      <td>01</td>\n",
       "      <td>04</td>\n",
       "      <td>Almería</td>\n",
       "      <td>04001</td>\n",
       "      <td>0400101001</td>\n",
       "      <td>000001</td>\n",
       "      <td>1</td>\n",
       "    </tr>\n",
       "    <tr>\n",
       "      <th>1</th>\n",
       "      <td>022023071010400101001 A0000020000122</td>\n",
       "      <td>01</td>\n",
       "      <td>04</td>\n",
       "      <td>Almería</td>\n",
       "      <td>04001</td>\n",
       "      <td>0400101001</td>\n",
       "      <td>000002</td>\n",
       "      <td>122</td>\n",
       "    </tr>\n",
       "    <tr>\n",
       "      <th>2</th>\n",
       "      <td>022023071010400101001 A0000030000000</td>\n",
       "      <td>01</td>\n",
       "      <td>04</td>\n",
       "      <td>Almería</td>\n",
       "      <td>04001</td>\n",
       "      <td>0400101001</td>\n",
       "      <td>000003</td>\n",
       "      <td>0</td>\n",
       "    </tr>\n",
       "  </tbody>\n",
       "</table>\n",
       "</div>"
      ],
      "text/plain": [
       "                                      0 comunidad_autonoma provincia  \\\n",
       "0  022023071010400101001 A0000010000001                 01        04   \n",
       "1  022023071010400101001 A0000020000122                 01        04   \n",
       "2  022023071010400101001 A0000030000000                 01        04   \n",
       "\n",
       "  provincia_nom municipio seccion_censal id_partido  votos  \n",
       "0       Almería     04001     0400101001     000001      1  \n",
       "1       Almería     04001     0400101001     000002    122  \n",
       "2       Almería     04001     0400101001     000003      0  "
      ]
     },
     "execution_count": 32,
     "metadata": {},
     "output_type": "execute_result"
    }
   ],
   "source": [
    "# Obtenemos los votos\n",
    "data = get_votes(data)\n",
    "data.head(3)"
   ]
  },
  {
   "attachments": {},
   "cell_type": "markdown",
   "id": "77d658e6-7864-4515-a5dc-c79cbd72afb5",
   "metadata": {},
   "source": [
    "#### 3.7 Filtros\n",
    "\n",
    "Dentro del conjunto de los datos hay agregados para los votos CERA* (Censo Electoral de Residentes Ausentes) a nivel provincial y autonómico. Han de filtrarse ya que están identificados individualmente a nivel de mesa electoral.\n",
    "\n",
    "Para nuestra representación cartografica no tiene impacto ya que solamente nos quedaremos con aquellos datos que dispongan de una geometría asociada, pero consideramos importante tener en cuenta este proceso de limpieza para futuros procesos con estos mismos datos.\n",
    "\n",
    "(*) Son los votos de aquellas personas que viven permanentemente fuera de España y que están inscritos en la Oficina Consular. Estos ciudadanos pueden tomar parte tanto de las elecciones generales como de las elecciones al Parlamento Europeo y a la comunidad autónoma de la que provengan."
   ]
  },
  {
   "cell_type": "code",
   "execution_count": 33,
   "id": "cd3db4a5",
   "metadata": {},
   "outputs": [
    {
     "data": {
      "text/plain": [
       "(647309, 8)"
      ]
     },
     "execution_count": 33,
     "metadata": {},
     "output_type": "execute_result"
    }
   ],
   "source": [
    "data.shape"
   ]
  },
  {
   "cell_type": "code",
   "execution_count": 34,
   "id": "e9921299",
   "metadata": {},
   "outputs": [],
   "source": [
    "# Excluimos aquellos datos cuya comunidad auntónoma o provincia sea igual a 99\n",
    "data = data[(data['comunidad_autonoma']!='99')]\n",
    "data = data[(data['provincia']!='99')]"
   ]
  },
  {
   "cell_type": "code",
   "execution_count": 35,
   "id": "8af995f0",
   "metadata": {},
   "outputs": [
    {
     "data": {
      "text/plain": [
       "(647022, 8)"
      ]
     },
     "execution_count": 35,
     "metadata": {},
     "output_type": "execute_result"
    }
   ],
   "source": [
    "data.shape"
   ]
  },
  {
   "attachments": {},
   "cell_type": "markdown",
   "id": "cd02fdfc",
   "metadata": {},
   "source": [
    "### 4. Agregado de las mesas\n",
    "\n",
    "A continuación agregaremos todas las filas del df con el objetivo de tener el valor de votos por partido a nivel de sección censal."
   ]
  },
  {
   "cell_type": "code",
   "execution_count": 36,
   "id": "6e14c426",
   "metadata": {},
   "outputs": [
    {
     "data": {
      "text/html": [
       "<div>\n",
       "<style scoped>\n",
       "    .dataframe tbody tr th:only-of-type {\n",
       "        vertical-align: middle;\n",
       "    }\n",
       "\n",
       "    .dataframe tbody tr th {\n",
       "        vertical-align: top;\n",
       "    }\n",
       "\n",
       "    .dataframe thead th {\n",
       "        text-align: right;\n",
       "    }\n",
       "</style>\n",
       "<table border=\"1\" class=\"dataframe\">\n",
       "  <thead>\n",
       "    <tr style=\"text-align: right;\">\n",
       "      <th></th>\n",
       "      <th>comunidad_autonoma</th>\n",
       "      <th>provincia</th>\n",
       "      <th>provincia_nom</th>\n",
       "      <th>municipio</th>\n",
       "      <th>seccion_censal</th>\n",
       "      <th>id_partido</th>\n",
       "      <th>votos</th>\n",
       "    </tr>\n",
       "  </thead>\n",
       "  <tbody>\n",
       "    <tr>\n",
       "      <th>0</th>\n",
       "      <td>01</td>\n",
       "      <td>04</td>\n",
       "      <td>Almería</td>\n",
       "      <td>04001</td>\n",
       "      <td>0400101001</td>\n",
       "      <td>000001</td>\n",
       "      <td>4</td>\n",
       "    </tr>\n",
       "    <tr>\n",
       "      <th>1</th>\n",
       "      <td>01</td>\n",
       "      <td>04</td>\n",
       "      <td>Almería</td>\n",
       "      <td>04001</td>\n",
       "      <td>0400101001</td>\n",
       "      <td>000002</td>\n",
       "      <td>294</td>\n",
       "    </tr>\n",
       "    <tr>\n",
       "      <th>2</th>\n",
       "      <td>01</td>\n",
       "      <td>04</td>\n",
       "      <td>Almería</td>\n",
       "      <td>04001</td>\n",
       "      <td>0400101001</td>\n",
       "      <td>000003</td>\n",
       "      <td>0</td>\n",
       "    </tr>\n",
       "    <tr>\n",
       "      <th>3</th>\n",
       "      <td>01</td>\n",
       "      <td>04</td>\n",
       "      <td>Almería</td>\n",
       "      <td>04001</td>\n",
       "      <td>0400101001</td>\n",
       "      <td>000004</td>\n",
       "      <td>6</td>\n",
       "    </tr>\n",
       "    <tr>\n",
       "      <th>4</th>\n",
       "      <td>01</td>\n",
       "      <td>04</td>\n",
       "      <td>Almería</td>\n",
       "      <td>04001</td>\n",
       "      <td>0400101001</td>\n",
       "      <td>000005</td>\n",
       "      <td>262</td>\n",
       "    </tr>\n",
       "  </tbody>\n",
       "</table>\n",
       "</div>"
      ],
      "text/plain": [
       "  comunidad_autonoma provincia provincia_nom municipio seccion_censal  \\\n",
       "0                 01        04       Almería     04001     0400101001   \n",
       "1                 01        04       Almería     04001     0400101001   \n",
       "2                 01        04       Almería     04001     0400101001   \n",
       "3                 01        04       Almería     04001     0400101001   \n",
       "4                 01        04       Almería     04001     0400101001   \n",
       "\n",
       "  id_partido  votos  \n",
       "0     000001      4  \n",
       "1     000002    294  \n",
       "2     000003      0  \n",
       "3     000004      6  \n",
       "4     000005    262  "
      ]
     },
     "execution_count": 36,
     "metadata": {},
     "output_type": "execute_result"
    }
   ],
   "source": [
    "# Agrergamos usando groupby\n",
    "data_secc = data.groupby(['comunidad_autonoma','provincia', 'provincia_nom', 'municipio', 'seccion_censal','id_partido'])['votos'].sum().reset_index(name='votos')\n",
    "data_secc.head(5)"
   ]
  },
  {
   "attachments": {},
   "cell_type": "markdown",
   "id": "80e184f0",
   "metadata": {},
   "source": [
    "### 5. Unión con partidos\n",
    "\n",
    "Unimos el df que acabamos de agrupar con la tabla de partidos para disponer del nombre de cada partido"
   ]
  },
  {
   "cell_type": "code",
   "execution_count": 37,
   "id": "43590201",
   "metadata": {},
   "outputs": [
    {
     "data": {
      "text/html": [
       "<div>\n",
       "<style scoped>\n",
       "    .dataframe tbody tr th:only-of-type {\n",
       "        vertical-align: middle;\n",
       "    }\n",
       "\n",
       "    .dataframe tbody tr th {\n",
       "        vertical-align: top;\n",
       "    }\n",
       "\n",
       "    .dataframe thead th {\n",
       "        text-align: right;\n",
       "    }\n",
       "</style>\n",
       "<table border=\"1\" class=\"dataframe\">\n",
       "  <thead>\n",
       "    <tr style=\"text-align: right;\">\n",
       "      <th></th>\n",
       "      <th>comunidad_autonoma</th>\n",
       "      <th>provincia</th>\n",
       "      <th>provincia_nom</th>\n",
       "      <th>municipio</th>\n",
       "      <th>seccion_censal</th>\n",
       "      <th>id_partido</th>\n",
       "      <th>votos</th>\n",
       "      <th>partido</th>\n",
       "    </tr>\n",
       "  </thead>\n",
       "  <tbody>\n",
       "    <tr>\n",
       "      <th>0</th>\n",
       "      <td>01</td>\n",
       "      <td>04</td>\n",
       "      <td>Almería</td>\n",
       "      <td>04001</td>\n",
       "      <td>0400101001</td>\n",
       "      <td>000001</td>\n",
       "      <td>4</td>\n",
       "      <td>FRENTE OBRERO</td>\n",
       "    </tr>\n",
       "    <tr>\n",
       "      <th>1</th>\n",
       "      <td>01</td>\n",
       "      <td>04</td>\n",
       "      <td>Almería</td>\n",
       "      <td>04001</td>\n",
       "      <td>0400101001</td>\n",
       "      <td>000002</td>\n",
       "      <td>294</td>\n",
       "      <td>PSOE</td>\n",
       "    </tr>\n",
       "    <tr>\n",
       "      <th>2</th>\n",
       "      <td>01</td>\n",
       "      <td>04</td>\n",
       "      <td>Almería</td>\n",
       "      <td>04001</td>\n",
       "      <td>0400101001</td>\n",
       "      <td>000003</td>\n",
       "      <td>0</td>\n",
       "      <td>POR UN MUNDO MÁS JUSTO</td>\n",
       "    </tr>\n",
       "  </tbody>\n",
       "</table>\n",
       "</div>"
      ],
      "text/plain": [
       "  comunidad_autonoma provincia provincia_nom municipio seccion_censal  \\\n",
       "0                 01        04       Almería     04001     0400101001   \n",
       "1                 01        04       Almería     04001     0400101001   \n",
       "2                 01        04       Almería     04001     0400101001   \n",
       "\n",
       "  id_partido  votos                 partido  \n",
       "0     000001      4           FRENTE OBRERO  \n",
       "1     000002    294                    PSOE  \n",
       "2     000003      0  POR UN MUNDO MÁS JUSTO  "
      ]
     },
     "execution_count": 37,
     "metadata": {},
     "output_type": "execute_result"
    }
   ],
   "source": [
    "# Interesectamos nuestra tambla principal con la tabla de partidos aplicando un left join\n",
    "data_secc = data_secc.merge(parties, on='id_partido', how='left')\n",
    "data_secc.head(3)"
   ]
  },
  {
   "cell_type": "code",
   "execution_count": 38,
   "id": "9d4eae6d",
   "metadata": {},
   "outputs": [
    {
     "data": {
      "text/plain": [
       "array(['FRENTE OBRERO', 'PSOE', 'POR UN MUNDO MÁS JUSTO',\n",
       "       'ALMERIENSES - REGIONALISTAS PRO ALMERÍA', 'PP', 'VOX', 'PACMA',\n",
       "       'LIBRES', 'RECORTES CERO', 'SUMAR', 'ADELANTE ANDALUCÍA',\n",
       "       'CAMINANDO JUNTOS', 'ESCAÑOS EN BLANCO PARA DEJAR ESCAÑOS VACÍOS',\n",
       "       'PCTE', 'JUNTOS POR GRANADA', 'POR HUELVA', 'JAÉN MERECE MÁS',\n",
       "       'FALANGE ESPAÑOLA DE LAS J.O.N.S.',\n",
       "       'FEDERACIÓN DE LOS INDEPENDIENTES DE ARAGÓN', 'COALICIÓN EXISTE',\n",
       "       'PARTIDO ARAGONÉS', 'PARTIDO UNIONISTA ESTADO DE ESPAÑA',\n",
       "       'ASTURIAS EXISTE-ESPAÑA VACIADA', 'COALICIÓN CANARIA',\n",
       "       'NUEVA CANARIAS - BLOQUE CANARISTA',\n",
       "       'AHORA CANARIAS-PARTIDO COMUNISTA DEL PUEBLO CANARIO', 'POR ÁVILA',\n",
       "       'VÍA BURGALESA',\n",
       "       'ESPAÑA VACIADA-PARTIDO CASTELLANO-TIERRA COMUNERA',\n",
       "       'ESPAÑA VACIADA', 'PARTIDO REGIONALISTA DEL PAÍS LEONÉS',\n",
       "       'UNIÓN DEL PUEBLO LEONÉS', 'VAMOS PALENCIA',\n",
       "       'GRUPO INDEPENDIENTE PALENCIA TIERRA VIVA',\n",
       "       'TERCERA EDAD EN ACCIÓN', 'SORIA ¡YA!', 'UNIDAD CASTELLANA',\n",
       "       'FUERZA CÍVICA', 'ZAMORA SÍ', 'ESQUERRA REPUBLICANA DE CATALUNYA',\n",
       "       \"CANDIDATURA D'UNITAT POPULAR-PER LA RUPTURA\",\n",
       "       'PARTIT DEMÒCRATA EUROPEU CATALÀ-ESPAI CIU',\n",
       "       'JUNTS PER CATALUNYA - JUNTS', 'ENTRE VEÏNS CATALUNYA',\n",
       "       'UNIDOS POR LA SOLIDARIDAD INTERNACIONAL', 'BLOQUE EXTREMEÑO',\n",
       "       'SOMOS CÁCERES', 'BLOQUE NACIONALISTA GALEGO',\n",
       "       'COALICIÓN DE CENTRO DEMOCRÁTICO', 'PARTIDO HUMANISTA',\n",
       "       'EUSKAL HERRIA BILDU', 'GEROA BAI', 'UNION DEL PUEBLO NAVARRO',\n",
       "       'PNV', 'REFERÉNDUM SISTEMA DINERO', 'POR MI REGIÓN',\n",
       "       'PARTIDO AUTÓNOMOS', 'ESTAT VALENCIÀ DEL BENESTAR',\n",
       "       'COALICIÓN POR MELILLA'], dtype=object)"
      ]
     },
     "execution_count": 38,
     "metadata": {},
     "output_type": "execute_result"
    }
   ],
   "source": [
    "# Chequeamos los nombres de partidos que se han unido al df\n",
    "data_secc['partido'].unique()"
   ]
  },
  {
   "attachments": {},
   "cell_type": "markdown",
   "id": "46dbece0",
   "metadata": {},
   "source": [
    "### 6. Obtención de los partidos representativos\n",
    "\n",
    "El objetivo de este procedimiento es la simplificación de partidos para poder generar un fichero más ligero y sencillo de trabajar. Este fichero será el que hemos denominado *votos_secciones_simp*\n",
    "\n",
    "Lo que vamos a hacer a continuación es quedarnos únicamente con los partidos que al menos lleguen a un porcentaje minimo de votos, quedando todos los que no cumplan dicha condición en un agregado denominado *OTROS*.\n",
    "\n",
    "Para ello:\n",
    "1. Calculamos los votos por partido a nivel provincial.\n",
    "2. Calculamos el porcentaje que representan dichos votos.\n",
    "3. Obtenemos un listado de partidos que superen por provincia un limite de representatividad (1,5%).\n",
    "4. Creamos un nuevo campo 'partido_simp' que aplica la categoría 'OTROS' a aquellos partidos que no superen el límite establecido."
   ]
  },
  {
   "attachments": {},
   "cell_type": "markdown",
   "id": "a9b48548",
   "metadata": {},
   "source": [
    "#### 6.1 Agregado a nivel provincia"
   ]
  },
  {
   "cell_type": "code",
   "execution_count": 39,
   "id": "27534f1e",
   "metadata": {},
   "outputs": [
    {
     "data": {
      "text/html": [
       "<div>\n",
       "<style scoped>\n",
       "    .dataframe tbody tr th:only-of-type {\n",
       "        vertical-align: middle;\n",
       "    }\n",
       "\n",
       "    .dataframe tbody tr th {\n",
       "        vertical-align: top;\n",
       "    }\n",
       "\n",
       "    .dataframe thead th {\n",
       "        text-align: right;\n",
       "    }\n",
       "</style>\n",
       "<table border=\"1\" class=\"dataframe\">\n",
       "  <thead>\n",
       "    <tr style=\"text-align: right;\">\n",
       "      <th></th>\n",
       "      <th>provincia</th>\n",
       "      <th>partido</th>\n",
       "      <th>votos</th>\n",
       "    </tr>\n",
       "  </thead>\n",
       "  <tbody>\n",
       "    <tr>\n",
       "      <th>0</th>\n",
       "      <td>01</td>\n",
       "      <td>ESCAÑOS EN BLANCO PARA DEJAR ESCAÑOS VACÍOS</td>\n",
       "      <td>619</td>\n",
       "    </tr>\n",
       "    <tr>\n",
       "      <th>1</th>\n",
       "      <td>01</td>\n",
       "      <td>EUSKAL HERRIA BILDU</td>\n",
       "      <td>32987</td>\n",
       "    </tr>\n",
       "  </tbody>\n",
       "</table>\n",
       "</div>"
      ],
      "text/plain": [
       "  provincia                                      partido  votos\n",
       "0        01  ESCAÑOS EN BLANCO PARA DEJAR ESCAÑOS VACÍOS    619\n",
       "1        01                          EUSKAL HERRIA BILDU  32987"
      ]
     },
     "execution_count": 39,
     "metadata": {},
     "output_type": "execute_result"
    }
   ],
   "source": [
    "# Agregamos los votos obtenidos por partido y provincia\n",
    "partidos_provincia = data_secc.groupby(['provincia','partido'])['votos'].sum().reset_index().sort_values(by='provincia', ascending=True)\n",
    "partidos_provincia.head(2)"
   ]
  },
  {
   "attachments": {},
   "cell_type": "markdown",
   "id": "25c3c2e8",
   "metadata": {},
   "source": [
    "#### 6.2 Porcentaje de los votos por partido"
   ]
  },
  {
   "cell_type": "code",
   "execution_count": 40,
   "id": "1334e31f",
   "metadata": {},
   "outputs": [],
   "source": [
    "# Definimos una función para obtener el porcentaje de votos por provincia \n",
    "def get_percentaje_vote_prov(df):\n",
    "    df_totales = df.groupby(['comunidad_autonoma','provincia'])['votos'].sum().reset_index(name='votos').sort_values(by='votos', ascending=False)\n",
    "    df_totales = df_totales.rename(columns={'votos': 'votos_totales'})\n",
    "    df_join = pd.merge(df, df_totales, on=['comunidad_autonoma','provincia'], how='left')\n",
    "    df_join['porcentaje_voto_prov'] = df_join['votos']/df_join['votos_totales']\n",
    "    df_join = df_join.groupby(['comunidad_autonoma','provincia','partido'])['porcentaje_voto_prov'].sum().reset_index().sort_values(by='porcentaje_voto_prov', ascending=False)\n",
    "    return df_join"
   ]
  },
  {
   "cell_type": "code",
   "execution_count": 41,
   "id": "93984941",
   "metadata": {},
   "outputs": [
    {
     "data": {
      "text/html": [
       "<div>\n",
       "<style scoped>\n",
       "    .dataframe tbody tr th:only-of-type {\n",
       "        vertical-align: middle;\n",
       "    }\n",
       "\n",
       "    .dataframe tbody tr th {\n",
       "        vertical-align: top;\n",
       "    }\n",
       "\n",
       "    .dataframe thead th {\n",
       "        text-align: right;\n",
       "    }\n",
       "</style>\n",
       "<table border=\"1\" class=\"dataframe\">\n",
       "  <thead>\n",
       "    <tr style=\"text-align: right;\">\n",
       "      <th></th>\n",
       "      <th>comunidad_autonoma</th>\n",
       "      <th>provincia</th>\n",
       "      <th>partido</th>\n",
       "      <th>porcentaje_voto_prov</th>\n",
       "    </tr>\n",
       "  </thead>\n",
       "  <tbody>\n",
       "    <tr>\n",
       "      <th>400</th>\n",
       "      <td>11</td>\n",
       "      <td>27</td>\n",
       "      <td>PP</td>\n",
       "      <td>0.505633</td>\n",
       "    </tr>\n",
       "    <tr>\n",
       "      <th>411</th>\n",
       "      <td>11</td>\n",
       "      <td>32</td>\n",
       "      <td>PP</td>\n",
       "      <td>0.503246</td>\n",
       "    </tr>\n",
       "    <tr>\n",
       "      <th>545</th>\n",
       "      <td>19</td>\n",
       "      <td>52</td>\n",
       "      <td>PP</td>\n",
       "      <td>0.496236</td>\n",
       "    </tr>\n",
       "  </tbody>\n",
       "</table>\n",
       "</div>"
      ],
      "text/plain": [
       "    comunidad_autonoma provincia partido  porcentaje_voto_prov\n",
       "400                 11        27      PP              0.505633\n",
       "411                 11        32      PP              0.503246\n",
       "545                 19        52      PP              0.496236"
      ]
     },
     "execution_count": 41,
     "metadata": {},
     "output_type": "execute_result"
    }
   ],
   "source": [
    "# Aplicamos la función para obtener el porcentaje\n",
    "representative_parties = get_percentaje_vote_prov(data_secc)\n",
    "representative_parties.head(3)"
   ]
  },
  {
   "attachments": {},
   "cell_type": "markdown",
   "id": "3984b42e",
   "metadata": {},
   "source": [
    "#### 6.3 Obtención de la lista de partidos que superen el límite establecido"
   ]
  },
  {
   "cell_type": "code",
   "execution_count": 42,
   "id": "08f1cadf",
   "metadata": {},
   "outputs": [],
   "source": [
    "# Definimos un limite porcentual de votos, consideramos un mínimo de un 1,5% de los votos\n",
    "limit = 0.015\n",
    "# Definimos una función que filtre el df por el limite establecido y simplifique los partidos obtenidos en una lista \n",
    "def get_representative_parties(df, limit):\n",
    "    df = df.groupby(['comunidad_autonoma','provincia','partido'])['porcentaje_voto_prov'].sum().reset_index().sort_values(by='porcentaje_voto_prov', ascending=False)\n",
    "    df = df[df['porcentaje_voto_prov']>=limit]\n",
    "    df = df.groupby(['partido']).sum().reset_index().sort_values(by='porcentaje_voto_prov', ascending=False)\n",
    "    list_parties = df['partido'].tolist()\n",
    "    return list_parties"
   ]
  },
  {
   "cell_type": "code",
   "execution_count": 43,
   "id": "9dbf4939",
   "metadata": {},
   "outputs": [
    {
     "data": {
      "text/plain": [
       "['PP',\n",
       " 'PSOE',\n",
       " 'VOX',\n",
       " 'SUMAR',\n",
       " 'EUSKAL HERRIA BILDU',\n",
       " 'PNV',\n",
       " 'ESQUERRA REPUBLICANA DE CATALUNYA',\n",
       " 'JUNTS PER CATALUNYA - JUNTS',\n",
       " 'BLOQUE NACIONALISTA GALEGO',\n",
       " 'COALICIÓN CANARIA',\n",
       " 'SORIA ¡YA!',\n",
       " 'COALICIÓN EXISTE',\n",
       " 'UNION DEL PUEBLO NAVARRO',\n",
       " \"CANDIDATURA D'UNITAT POPULAR-PER LA RUPTURA\",\n",
       " 'UNIÓN DEL PUEBLO LEONÉS',\n",
       " 'NUEVA CANARIAS - BLOQUE CANARISTA',\n",
       " 'POR ÁVILA',\n",
       " 'COALICIÓN POR MELILLA',\n",
       " 'GEROA BAI',\n",
       " 'JAÉN MERECE MÁS',\n",
       " 'VAMOS PALENCIA',\n",
       " 'ZAMORA SÍ']"
      ]
     },
     "execution_count": 43,
     "metadata": {},
     "output_type": "execute_result"
    }
   ],
   "source": [
    "# Aplicamos la función y obtenemos los partidos\n",
    "representative_parties_list = get_representative_parties(representative_parties, limit)\n",
    "representative_parties_list"
   ]
  },
  {
   "attachments": {},
   "cell_type": "markdown",
   "id": "e16d35db",
   "metadata": {},
   "source": [
    "#### 6.4 Identificamos los partidos representativos\n",
    "\n",
    "Retornamos a nuestro dataframe de votos agregados a nivel de sección censal y aplicamos un mapeo de los partidos no representativos."
   ]
  },
  {
   "cell_type": "code",
   "execution_count": 44,
   "id": "bcdf2644",
   "metadata": {},
   "outputs": [],
   "source": [
    "# Definimos una función que aplique el término 'OTROS' a aquellos items no contenidos en la lista, se aplicara dentro de una función lambda para cada fila del df\n",
    "def check_partie(partie):\n",
    "    if partie not in representative_parties_list:\n",
    "        return 'OTROS'\n",
    "    else:\n",
    "        return partie"
   ]
  },
  {
   "cell_type": "code",
   "execution_count": 45,
   "id": "2ae3e8ec",
   "metadata": {},
   "outputs": [
    {
     "data": {
      "text/html": [
       "<div>\n",
       "<style scoped>\n",
       "    .dataframe tbody tr th:only-of-type {\n",
       "        vertical-align: middle;\n",
       "    }\n",
       "\n",
       "    .dataframe tbody tr th {\n",
       "        vertical-align: top;\n",
       "    }\n",
       "\n",
       "    .dataframe thead th {\n",
       "        text-align: right;\n",
       "    }\n",
       "</style>\n",
       "<table border=\"1\" class=\"dataframe\">\n",
       "  <thead>\n",
       "    <tr style=\"text-align: right;\">\n",
       "      <th></th>\n",
       "      <th>comunidad_autonoma</th>\n",
       "      <th>provincia</th>\n",
       "      <th>provincia_nom</th>\n",
       "      <th>municipio</th>\n",
       "      <th>seccion_censal</th>\n",
       "      <th>id_partido</th>\n",
       "      <th>votos</th>\n",
       "      <th>partido</th>\n",
       "      <th>partido_simp</th>\n",
       "    </tr>\n",
       "  </thead>\n",
       "  <tbody>\n",
       "    <tr>\n",
       "      <th>0</th>\n",
       "      <td>01</td>\n",
       "      <td>04</td>\n",
       "      <td>Almería</td>\n",
       "      <td>04001</td>\n",
       "      <td>0400101001</td>\n",
       "      <td>000001</td>\n",
       "      <td>4</td>\n",
       "      <td>FRENTE OBRERO</td>\n",
       "      <td>OTROS</td>\n",
       "    </tr>\n",
       "    <tr>\n",
       "      <th>1</th>\n",
       "      <td>01</td>\n",
       "      <td>04</td>\n",
       "      <td>Almería</td>\n",
       "      <td>04001</td>\n",
       "      <td>0400101001</td>\n",
       "      <td>000002</td>\n",
       "      <td>294</td>\n",
       "      <td>PSOE</td>\n",
       "      <td>PSOE</td>\n",
       "    </tr>\n",
       "    <tr>\n",
       "      <th>2</th>\n",
       "      <td>01</td>\n",
       "      <td>04</td>\n",
       "      <td>Almería</td>\n",
       "      <td>04001</td>\n",
       "      <td>0400101001</td>\n",
       "      <td>000003</td>\n",
       "      <td>0</td>\n",
       "      <td>POR UN MUNDO MÁS JUSTO</td>\n",
       "      <td>OTROS</td>\n",
       "    </tr>\n",
       "  </tbody>\n",
       "</table>\n",
       "</div>"
      ],
      "text/plain": [
       "  comunidad_autonoma provincia provincia_nom municipio seccion_censal  \\\n",
       "0                 01        04       Almería     04001     0400101001   \n",
       "1                 01        04       Almería     04001     0400101001   \n",
       "2                 01        04       Almería     04001     0400101001   \n",
       "\n",
       "  id_partido  votos                 partido partido_simp  \n",
       "0     000001      4           FRENTE OBRERO        OTROS  \n",
       "1     000002    294                    PSOE         PSOE  \n",
       "2     000003      0  POR UN MUNDO MÁS JUSTO        OTROS  "
      ]
     },
     "execution_count": 45,
     "metadata": {},
     "output_type": "execute_result"
    }
   ],
   "source": [
    "# Creamos una nueva columna que aplique la función anteriormente definida mediante una función lambda\n",
    "data_secc['partido_simp'] = data_secc['partido'].apply(lambda x: check_partie(x))\n",
    "data_secc.head(3)"
   ]
  },
  {
   "attachments": {},
   "cell_type": "markdown",
   "id": "5ebfc652",
   "metadata": {},
   "source": [
    "### 7. \tPorcentaje de voto a nivel de sección censal"
   ]
  },
  {
   "cell_type": "code",
   "execution_count": 46,
   "id": "b1356d2b",
   "metadata": {},
   "outputs": [],
   "source": [
    "# Construimos una función para obtener el porcentaje de voto a nivel de sección censal. Retornará un nuevo campo llamado 'porcentaje_voto_secc'\n",
    "def get_percentaje_vote_censussection(df):\n",
    "    df_totales = df.groupby(['comunidad_autonoma','provincia','municipio','seccion_censal'])['votos'].sum().reset_index(name='votos').sort_values(by='votos', ascending=False)\n",
    "    df_totales = df_totales.rename(columns={'votos': 'votos_totales'})\n",
    "    df_join = pd.merge(df, df_totales, on=['comunidad_autonoma','provincia','municipio','seccion_censal'], how='left')\n",
    "    df_join['porcentaje_voto_secc'] = df_join['votos']/df_join['votos_totales'].round(3)\n",
    "    return df_join"
   ]
  },
  {
   "cell_type": "code",
   "execution_count": 47,
   "id": "113a12da",
   "metadata": {},
   "outputs": [
    {
     "data": {
      "text/plain": [
       "'c:/Users/lopez/Documents/GitHub/spanish_elections_results/data/outputs/'"
      ]
     },
     "execution_count": 47,
     "metadata": {},
     "output_type": "execute_result"
    }
   ],
   "source": [
    "out_path"
   ]
  },
  {
   "cell_type": "code",
   "execution_count": 48,
   "id": "0ad95a3d",
   "metadata": {},
   "outputs": [
    {
     "data": {
      "text/html": [
       "<div>\n",
       "<style scoped>\n",
       "    .dataframe tbody tr th:only-of-type {\n",
       "        vertical-align: middle;\n",
       "    }\n",
       "\n",
       "    .dataframe tbody tr th {\n",
       "        vertical-align: top;\n",
       "    }\n",
       "\n",
       "    .dataframe thead th {\n",
       "        text-align: right;\n",
       "    }\n",
       "</style>\n",
       "<table border=\"1\" class=\"dataframe\">\n",
       "  <thead>\n",
       "    <tr style=\"text-align: right;\">\n",
       "      <th></th>\n",
       "      <th>comunidad_autonoma</th>\n",
       "      <th>provincia</th>\n",
       "      <th>provincia_nom</th>\n",
       "      <th>municipio</th>\n",
       "      <th>seccion_censal</th>\n",
       "      <th>id_partido</th>\n",
       "      <th>votos</th>\n",
       "      <th>partido</th>\n",
       "      <th>partido_simp</th>\n",
       "      <th>votos_totales</th>\n",
       "      <th>porcentaje_voto_secc</th>\n",
       "    </tr>\n",
       "  </thead>\n",
       "  <tbody>\n",
       "    <tr>\n",
       "      <th>0</th>\n",
       "      <td>01</td>\n",
       "      <td>04</td>\n",
       "      <td>Almería</td>\n",
       "      <td>04001</td>\n",
       "      <td>0400101001</td>\n",
       "      <td>000001</td>\n",
       "      <td>4</td>\n",
       "      <td>FRENTE OBRERO</td>\n",
       "      <td>OTROS</td>\n",
       "      <td>737</td>\n",
       "      <td>0.005427</td>\n",
       "    </tr>\n",
       "    <tr>\n",
       "      <th>1</th>\n",
       "      <td>01</td>\n",
       "      <td>04</td>\n",
       "      <td>Almería</td>\n",
       "      <td>04001</td>\n",
       "      <td>0400101001</td>\n",
       "      <td>000002</td>\n",
       "      <td>294</td>\n",
       "      <td>PSOE</td>\n",
       "      <td>PSOE</td>\n",
       "      <td>737</td>\n",
       "      <td>0.398915</td>\n",
       "    </tr>\n",
       "    <tr>\n",
       "      <th>2</th>\n",
       "      <td>01</td>\n",
       "      <td>04</td>\n",
       "      <td>Almería</td>\n",
       "      <td>04001</td>\n",
       "      <td>0400101001</td>\n",
       "      <td>000003</td>\n",
       "      <td>0</td>\n",
       "      <td>POR UN MUNDO MÁS JUSTO</td>\n",
       "      <td>OTROS</td>\n",
       "      <td>737</td>\n",
       "      <td>0.000000</td>\n",
       "    </tr>\n",
       "  </tbody>\n",
       "</table>\n",
       "</div>"
      ],
      "text/plain": [
       "  comunidad_autonoma provincia provincia_nom municipio seccion_censal  \\\n",
       "0                 01        04       Almería     04001     0400101001   \n",
       "1                 01        04       Almería     04001     0400101001   \n",
       "2                 01        04       Almería     04001     0400101001   \n",
       "\n",
       "  id_partido  votos                 partido partido_simp  votos_totales  \\\n",
       "0     000001      4           FRENTE OBRERO        OTROS            737   \n",
       "1     000002    294                    PSOE         PSOE            737   \n",
       "2     000003      0  POR UN MUNDO MÁS JUSTO        OTROS            737   \n",
       "\n",
       "   porcentaje_voto_secc  \n",
       "0              0.005427  \n",
       "1              0.398915  \n",
       "2              0.000000  "
      ]
     },
     "execution_count": 48,
     "metadata": {},
     "output_type": "execute_result"
    }
   ],
   "source": [
    "# Implementamos la función en el df\n",
    "data_census = get_percentaje_vote_censussection(data_secc)\n",
    "data_census.head(3)"
   ]
  },
  {
   "attachments": {},
   "cell_type": "markdown",
   "id": "bc0cf4ad",
   "metadata": {},
   "source": [
    "### 8. Unimos las geometrías al dataframe\n",
    "\n",
    "En este paso primero aplicaremos una serie de formateos al geodataframe, generaremos un subconjunto formado únicamente por los campos que nos interesen y finalmente haremos un left join con el df principal asociando a cada sección censal su geometría."
   ]
  },
  {
   "attachments": {},
   "cell_type": "markdown",
   "id": "21e84740",
   "metadata": {},
   "source": [
    "#### 8.1 Formateo del geodataframe de secciones censales"
   ]
  },
  {
   "cell_type": "code",
   "execution_count": 49,
   "id": "2fa93e41",
   "metadata": {},
   "outputs": [],
   "source": [
    "# Función para construir un campo geo_seccion_censal el id de las secciones censales a partir de la concatenación del código municipio, distrito y sección censal\n",
    "def get_geo_census_section(gdf):\n",
    "    gdf['geo_seccion_censal'] = gdf['CUMUN'] + gdf['CDIS'] + gdf['CSEC']\n",
    "    return gdf"
   ]
  },
  {
   "cell_type": "code",
   "execution_count": 50,
   "id": "2b584b54",
   "metadata": {},
   "outputs": [
    {
     "data": {
      "text/html": [
       "<div>\n",
       "<style scoped>\n",
       "    .dataframe tbody tr th:only-of-type {\n",
       "        vertical-align: middle;\n",
       "    }\n",
       "\n",
       "    .dataframe tbody tr th {\n",
       "        vertical-align: top;\n",
       "    }\n",
       "\n",
       "    .dataframe thead th {\n",
       "        text-align: right;\n",
       "    }\n",
       "</style>\n",
       "<table border=\"1\" class=\"dataframe\">\n",
       "  <thead>\n",
       "    <tr style=\"text-align: right;\">\n",
       "      <th></th>\n",
       "      <th>CUSEC</th>\n",
       "      <th>CUMUN</th>\n",
       "      <th>CSEC</th>\n",
       "      <th>CDIS</th>\n",
       "      <th>CMUN</th>\n",
       "      <th>CPRO</th>\n",
       "      <th>CCA</th>\n",
       "      <th>CUDIS</th>\n",
       "      <th>CLAU2</th>\n",
       "      <th>NPRO</th>\n",
       "      <th>NCA</th>\n",
       "      <th>CNUT0</th>\n",
       "      <th>CNUT1</th>\n",
       "      <th>CNUT2</th>\n",
       "      <th>CNUT3</th>\n",
       "      <th>NMUN</th>\n",
       "      <th>geometry</th>\n",
       "      <th>geo_seccion_censal</th>\n",
       "    </tr>\n",
       "  </thead>\n",
       "  <tbody>\n",
       "    <tr>\n",
       "      <th>0</th>\n",
       "      <td>0100101001</td>\n",
       "      <td>01001</td>\n",
       "      <td>001</td>\n",
       "      <td>01</td>\n",
       "      <td>001</td>\n",
       "      <td>01</td>\n",
       "      <td>16</td>\n",
       "      <td>0100101</td>\n",
       "      <td>01001</td>\n",
       "      <td>Araba/Álava</td>\n",
       "      <td>País Vasco</td>\n",
       "      <td>ES</td>\n",
       "      <td>2</td>\n",
       "      <td>1</td>\n",
       "      <td>1</td>\n",
       "      <td>Alegría-Dulantzi</td>\n",
       "      <td>MULTIPOLYGON (((539753.044 4743324.668, 539784...</td>\n",
       "      <td>0100101001</td>\n",
       "    </tr>\n",
       "    <tr>\n",
       "      <th>1</th>\n",
       "      <td>0100101002</td>\n",
       "      <td>01001</td>\n",
       "      <td>002</td>\n",
       "      <td>01</td>\n",
       "      <td>001</td>\n",
       "      <td>01</td>\n",
       "      <td>16</td>\n",
       "      <td>0100101</td>\n",
       "      <td>01001</td>\n",
       "      <td>Araba/Álava</td>\n",
       "      <td>País Vasco</td>\n",
       "      <td>ES</td>\n",
       "      <td>2</td>\n",
       "      <td>1</td>\n",
       "      <td>1</td>\n",
       "      <td>Alegría-Dulantzi</td>\n",
       "      <td>POLYGON ((539559.740 4745571.157, 539562.677 4...</td>\n",
       "      <td>0100101002</td>\n",
       "    </tr>\n",
       "    <tr>\n",
       "      <th>2</th>\n",
       "      <td>0100201001</td>\n",
       "      <td>01002</td>\n",
       "      <td>001</td>\n",
       "      <td>01</td>\n",
       "      <td>002</td>\n",
       "      <td>01</td>\n",
       "      <td>16</td>\n",
       "      <td>0100201</td>\n",
       "      <td>01002</td>\n",
       "      <td>Araba/Álava</td>\n",
       "      <td>País Vasco</td>\n",
       "      <td>ES</td>\n",
       "      <td>2</td>\n",
       "      <td>1</td>\n",
       "      <td>1</td>\n",
       "      <td>Amurrio</td>\n",
       "      <td>MULTIPOLYGON (((503618.553 4759559.798, 503620...</td>\n",
       "      <td>0100201001</td>\n",
       "    </tr>\n",
       "  </tbody>\n",
       "</table>\n",
       "</div>"
      ],
      "text/plain": [
       "        CUSEC  CUMUN CSEC CDIS CMUN CPRO CCA    CUDIS  CLAU2         NPRO  \\\n",
       "0  0100101001  01001  001   01  001   01  16  0100101  01001  Araba/Álava   \n",
       "1  0100101002  01001  002   01  001   01  16  0100101  01001  Araba/Álava   \n",
       "2  0100201001  01002  001   01  002   01  16  0100201  01002  Araba/Álava   \n",
       "\n",
       "          NCA CNUT0 CNUT1 CNUT2 CNUT3              NMUN  \\\n",
       "0  País Vasco    ES     2     1     1  Alegría-Dulantzi   \n",
       "1  País Vasco    ES     2     1     1  Alegría-Dulantzi   \n",
       "2  País Vasco    ES     2     1     1           Amurrio   \n",
       "\n",
       "                                            geometry geo_seccion_censal  \n",
       "0  MULTIPOLYGON (((539753.044 4743324.668, 539784...         0100101001  \n",
       "1  POLYGON ((539559.740 4745571.157, 539562.677 4...         0100101002  \n",
       "2  MULTIPOLYGON (((503618.553 4759559.798, 503620...         0100201001  "
      ]
     },
     "execution_count": 50,
     "metadata": {},
     "output_type": "execute_result"
    }
   ],
   "source": [
    "# Aplicamos la función anteriormente definida\n",
    "census_gdf = get_geo_census_section(census_gdf)\n",
    "census_gdf.head(3)"
   ]
  },
  {
   "attachments": {},
   "cell_type": "markdown",
   "id": "038412f6",
   "metadata": {},
   "source": [
    "#### 8.2 Generamos el subconjunto que uniremos"
   ]
  },
  {
   "cell_type": "code",
   "execution_count": 51,
   "id": "20673026",
   "metadata": {},
   "outputs": [],
   "source": [
    "# Definimos una función para renombrar los campos del geodataframe que nos van a servir más adelante y retornamos un subconjunto del original \n",
    "def clean_geo_census_section(gdf):\n",
    "    gdf = gdf.rename(columns={'NCA': 'geo_comunidad_autonoma_nom','NMUN': 'geo_municipio_nom'})\n",
    "    gdf = gdf[['geo_seccion_censal', 'geo_municipio_nom', 'geo_comunidad_autonoma_nom', 'geometry']]\n",
    "    return gdf"
   ]
  },
  {
   "cell_type": "code",
   "execution_count": 52,
   "id": "9833c89b",
   "metadata": {},
   "outputs": [
    {
     "data": {
      "text/html": [
       "<div>\n",
       "<style scoped>\n",
       "    .dataframe tbody tr th:only-of-type {\n",
       "        vertical-align: middle;\n",
       "    }\n",
       "\n",
       "    .dataframe tbody tr th {\n",
       "        vertical-align: top;\n",
       "    }\n",
       "\n",
       "    .dataframe thead th {\n",
       "        text-align: right;\n",
       "    }\n",
       "</style>\n",
       "<table border=\"1\" class=\"dataframe\">\n",
       "  <thead>\n",
       "    <tr style=\"text-align: right;\">\n",
       "      <th></th>\n",
       "      <th>geo_seccion_censal</th>\n",
       "      <th>geo_municipio_nom</th>\n",
       "      <th>geo_comunidad_autonoma_nom</th>\n",
       "      <th>geometry</th>\n",
       "    </tr>\n",
       "  </thead>\n",
       "  <tbody>\n",
       "    <tr>\n",
       "      <th>0</th>\n",
       "      <td>0100101001</td>\n",
       "      <td>Alegría-Dulantzi</td>\n",
       "      <td>País Vasco</td>\n",
       "      <td>MULTIPOLYGON (((539753.044 4743324.668, 539784...</td>\n",
       "    </tr>\n",
       "    <tr>\n",
       "      <th>1</th>\n",
       "      <td>0100101002</td>\n",
       "      <td>Alegría-Dulantzi</td>\n",
       "      <td>País Vasco</td>\n",
       "      <td>POLYGON ((539559.740 4745571.157, 539562.677 4...</td>\n",
       "    </tr>\n",
       "    <tr>\n",
       "      <th>2</th>\n",
       "      <td>0100201001</td>\n",
       "      <td>Amurrio</td>\n",
       "      <td>País Vasco</td>\n",
       "      <td>MULTIPOLYGON (((503618.553 4759559.798, 503620...</td>\n",
       "    </tr>\n",
       "  </tbody>\n",
       "</table>\n",
       "</div>"
      ],
      "text/plain": [
       "  geo_seccion_censal geo_municipio_nom geo_comunidad_autonoma_nom  \\\n",
       "0         0100101001  Alegría-Dulantzi                 País Vasco   \n",
       "1         0100101002  Alegría-Dulantzi                 País Vasco   \n",
       "2         0100201001           Amurrio                 País Vasco   \n",
       "\n",
       "                                            geometry  \n",
       "0  MULTIPOLYGON (((539753.044 4743324.668, 539784...  \n",
       "1  POLYGON ((539559.740 4745571.157, 539562.677 4...  \n",
       "2  MULTIPOLYGON (((503618.553 4759559.798, 503620...  "
      ]
     },
     "execution_count": 52,
     "metadata": {},
     "output_type": "execute_result"
    }
   ],
   "source": [
    "# Lo aplicamos\n",
    "secc_gdf = clean_geo_census_section(census_gdf)\n",
    "secc_gdf.head(3)"
   ]
  },
  {
   "attachments": {},
   "cell_type": "markdown",
   "id": "3d6e059d",
   "metadata": {},
   "source": [
    "#### 8.3 Unión con los datos de votos a nivel sección censal"
   ]
  },
  {
   "cell_type": "code",
   "execution_count": 61,
   "id": "a236f650",
   "metadata": {},
   "outputs": [],
   "source": [
    "# Nuevo df resultado de la unión y con la información de la geometría\n",
    "all_parties_census = pd.merge(data_census, secc_gdf, left_on='seccion_censal', right_on='geo_seccion_censal', how='left')\n",
    "all_parties_census.head(3)"
   ]
  },
  {
   "attachments": {},
   "cell_type": "markdown",
   "id": "5e068cb1",
   "metadata": {},
   "source": [
    "#### 9 Chequeo unión final y filtrado datos sin geometría"
   ]
  },
  {
   "cell_type": "code",
   "execution_count": 63,
   "id": "555da286",
   "metadata": {
    "scrolled": true
   },
   "outputs": [
    {
     "name": "stdout",
     "output_type": "stream",
     "text": [
      "Número secciones censales con datos de voto pero sin geometría asociada: 1032 - 0.0%\n"
     ]
    }
   ],
   "source": [
    "# Chequeamos el número de secciones censales con datos de voto pero sin geometría asociada:\n",
    "print('Número secciones censales con datos de voto pero sin geometría asociada: ' +\n",
    "      str(all_parties_census[all_parties_census['geometry']==None].shape[0])+' - '+\n",
    "      str(\n",
    "          round((all_parties_census[all_parties_census['geometry']==None].shape[0])/(all_parties_census.shape[0]),1))+\n",
    "      '%'\n",
    "     )"
   ]
  },
  {
   "cell_type": "code",
   "execution_count": 64,
   "id": "27fd8351",
   "metadata": {},
   "outputs": [
    {
     "name": "stdout",
     "output_type": "stream",
     "text": [
      "Geometrias de secciones censales que no tienen con datos de voto: 49 - 0.0%\n"
     ]
    }
   ],
   "source": [
    "# Chequeo de secciones censales con geometría pero sin datos de votos:\n",
    "check_geoms_nodata = pd.merge(data_census, census_gdf, left_on='seccion_censal', right_on='geo_seccion_censal', how='outer')\n",
    "print('Geometrias de secciones censales que no tienen con datos de voto: ' +\n",
    "      str(check_geoms_nodata[check_geoms_nodata['partido'].isnull()].shape[0])+' - '+\n",
    "      str(round((check_geoms_nodata[check_geoms_nodata['partido'].isnull()].shape[0])/(check_geoms_nodata.shape[0]),1))+'%'\n",
    "      )"
   ]
  },
  {
   "cell_type": "code",
   "execution_count": 65,
   "id": "cfaa5e60",
   "metadata": {},
   "outputs": [
    {
     "name": "stdout",
     "output_type": "stream",
     "text": [
      "Items válidos a exportar: 392197\n"
     ]
    }
   ],
   "source": [
    "# Filtro de datos sin geometría\n",
    "all_parties_census = all_parties_census[all_parties_census['geometry']!=None]\n",
    "print('Items válidos a exportar: ' + str(all_parties_census.shape[0]))"
   ]
  },
  {
   "attachments": {},
   "cell_type": "markdown",
   "id": "1fdb1688",
   "metadata": {},
   "source": [
    "### 10 Generación y guardado de los outputs finales\n",
    "\n",
    "Guardado de los ficheros finales:\n",
    "- Convertimos en geodataframe\n",
    "- Guardado condicional como GeoJson (votos_secciones.geojson)\n",
    "- Guardado condicional como Shapefile (votos_secciones.shp)\n",
    "- Agregado partidos simplificados\n",
    "- Guardado condicional como GeoJson (votos_secciones_simp.geojson)\n",
    "- Guardado condicional como Shapefile (votos_secciones_simp.shp)"
   ]
  },
  {
   "attachments": {},
   "cell_type": "markdown",
   "id": "9b38c62d",
   "metadata": {},
   "source": [
    "#### 10.1 Convertimos en geodataframe"
   ]
  },
  {
   "cell_type": "code",
   "execution_count": 66,
   "id": "38516683",
   "metadata": {},
   "outputs": [
    {
     "data": {
      "text/plain": [
       "geopandas.geodataframe.GeoDataFrame"
      ]
     },
     "execution_count": 66,
     "metadata": {},
     "output_type": "execute_result"
    }
   ],
   "source": [
    "# Cambiamos de dataframe a geodataframe\n",
    "all_parties_census = df2gdf(all_parties_census, 'geometry', 'EPSG:25830')\n",
    "type(all_parties_census)"
   ]
  },
  {
   "attachments": {},
   "cell_type": "markdown",
   "id": "23d51cd4",
   "metadata": {},
   "source": [
    "##### 10.1.1 Guardado condicional como GeoJson (votos_secciones.geojson)"
   ]
  },
  {
   "cell_type": "code",
   "execution_count": 67,
   "id": "a6150c34",
   "metadata": {},
   "outputs": [],
   "source": [
    "# Guardar el GeoDataFrame como GeoJSON\n",
    "if save_as_geojson and save_alldata:\n",
    "    output_file = out_path + 'votos_secciones.geojson'\n",
    "    all_parties_census.to_file(output_file, driver='GeoJSON')"
   ]
  },
  {
   "attachments": {},
   "cell_type": "markdown",
   "id": "f3316c3f",
   "metadata": {},
   "source": [
    "#### 10.1.2 Guardado condicional como GeoJson (votos_secciones.shp)"
   ]
  },
  {
   "cell_type": "code",
   "execution_count": 68,
   "id": "81ba51f6",
   "metadata": {},
   "outputs": [],
   "source": [
    "if save_as_shapefile and save_alldata:\n",
    "    output_file = out_path + 'votos_secciones.shp'\n",
    "    all_parties_census.to_file(output_file, driver=\"ESRI Shapefile\")"
   ]
  },
  {
   "attachments": {},
   "cell_type": "markdown",
   "id": "b508d7a8",
   "metadata": {},
   "source": [
    "#### 10.2 Agregado partidos representativos"
   ]
  },
  {
   "cell_type": "code",
   "execution_count": 70,
   "id": "7152904e",
   "metadata": {},
   "outputs": [
    {
     "data": {
      "text/html": [
       "<div>\n",
       "<style scoped>\n",
       "    .dataframe tbody tr th:only-of-type {\n",
       "        vertical-align: middle;\n",
       "    }\n",
       "\n",
       "    .dataframe tbody tr th {\n",
       "        vertical-align: top;\n",
       "    }\n",
       "\n",
       "    .dataframe thead th {\n",
       "        text-align: right;\n",
       "    }\n",
       "</style>\n",
       "<table border=\"1\" class=\"dataframe\">\n",
       "  <thead>\n",
       "    <tr style=\"text-align: right;\">\n",
       "      <th></th>\n",
       "      <th>comunidad_autonoma</th>\n",
       "      <th>provincia</th>\n",
       "      <th>provincia_nom</th>\n",
       "      <th>municipio</th>\n",
       "      <th>seccion_censal</th>\n",
       "      <th>partido_simp</th>\n",
       "      <th>votos</th>\n",
       "      <th>porcentaje_voto_secc</th>\n",
       "      <th>geo_seccion_censal</th>\n",
       "      <th>geo_municipio_nom</th>\n",
       "      <th>geo_comunidad_autonoma_nom</th>\n",
       "      <th>geometry</th>\n",
       "    </tr>\n",
       "  </thead>\n",
       "  <tbody>\n",
       "    <tr>\n",
       "      <th>0</th>\n",
       "      <td>12</td>\n",
       "      <td>28</td>\n",
       "      <td>Madrid</td>\n",
       "      <td>28006</td>\n",
       "      <td>2800601059</td>\n",
       "      <td>PP</td>\n",
       "      <td>1205</td>\n",
       "      <td>0.759294</td>\n",
       "      <td>2800601059</td>\n",
       "      <td>Alcobendas</td>\n",
       "      <td>Comunidad de Madrid</td>\n",
       "      <td>POLYGON ((446242.970 4484314.788, 445987.627 4...</td>\n",
       "    </tr>\n",
       "    <tr>\n",
       "      <th>1</th>\n",
       "      <td>12</td>\n",
       "      <td>28</td>\n",
       "      <td>Madrid</td>\n",
       "      <td>28009</td>\n",
       "      <td>2800901001</td>\n",
       "      <td>PP</td>\n",
       "      <td>1171</td>\n",
       "      <td>0.680814</td>\n",
       "      <td>2800901001</td>\n",
       "      <td>Algete</td>\n",
       "      <td>Comunidad de Madrid</td>\n",
       "      <td>POLYGON ((452723.770 4500115.242, 452613.564 4...</td>\n",
       "    </tr>\n",
       "    <tr>\n",
       "      <th>2</th>\n",
       "      <td>12</td>\n",
       "      <td>28</td>\n",
       "      <td>Madrid</td>\n",
       "      <td>28022</td>\n",
       "      <td>2802201025</td>\n",
       "      <td>PP</td>\n",
       "      <td>1149</td>\n",
       "      <td>0.645506</td>\n",
       "      <td>2802201025</td>\n",
       "      <td>Boadilla del Monte</td>\n",
       "      <td>Comunidad de Madrid</td>\n",
       "      <td>POLYGON ((424278.600 4475212.160, 424276.034 4...</td>\n",
       "    </tr>\n",
       "  </tbody>\n",
       "</table>\n",
       "</div>"
      ],
      "text/plain": [
       "  comunidad_autonoma provincia provincia_nom municipio seccion_censal  \\\n",
       "0                 12        28        Madrid     28006     2800601059   \n",
       "1                 12        28        Madrid     28009     2800901001   \n",
       "2                 12        28        Madrid     28022     2802201025   \n",
       "\n",
       "  partido_simp  votos  porcentaje_voto_secc geo_seccion_censal  \\\n",
       "0           PP   1205              0.759294         2800601059   \n",
       "1           PP   1171              0.680814         2800901001   \n",
       "2           PP   1149              0.645506         2802201025   \n",
       "\n",
       "    geo_municipio_nom geo_comunidad_autonoma_nom  \\\n",
       "0          Alcobendas        Comunidad de Madrid   \n",
       "1              Algete        Comunidad de Madrid   \n",
       "2  Boadilla del Monte        Comunidad de Madrid   \n",
       "\n",
       "                                            geometry  \n",
       "0  POLYGON ((446242.970 4484314.788, 445987.627 4...  \n",
       "1  POLYGON ((452723.770 4500115.242, 452613.564 4...  \n",
       "2  POLYGON ((424278.600 4475212.160, 424276.034 4...  "
      ]
     },
     "execution_count": 70,
     "metadata": {},
     "output_type": "execute_result"
    }
   ],
   "source": [
    "# Agregamos para sumar votos y porcentajes de los partidos simplificados ('OTROS')\n",
    "all_parties_simp_census = all_parties_census.groupby(['comunidad_autonoma','provincia', 'provincia_nom','municipio','seccion_censal',\n",
    "                                                  'partido_simp'])[['votos','porcentaje_voto_secc']].sum() \\\n",
    "                                                    .reset_index().sort_values(by='votos', ascending=False)\n",
    "# Unimos con el gdf de geometrías\n",
    "all_parties_simp_census = pd.merge(all_parties_simp_census, secc_gdf, left_on='seccion_censal', right_on='geo_seccion_censal', how='left')\n",
    "# Convertimos a gdf\n",
    "all_parties_simp_census = df2gdf(all_parties_simp_census, 'geometry', 'EPSG:25830')\n",
    "all_parties_simp_census.head(3)"
   ]
  },
  {
   "attachments": {},
   "cell_type": "markdown",
   "id": "db9e00a6",
   "metadata": {},
   "source": [
    "#### 10.2.1 Guardado condicional como GeoJson (votos_secciones_simp.geojson)"
   ]
  },
  {
   "cell_type": "code",
   "execution_count": null,
   "id": "cc79cbba",
   "metadata": {},
   "outputs": [],
   "source": [
    "# Guardar el GeoDataFrame como GeoJSON\n",
    "if save_as_geojson and save_simplified:\n",
    "    output_file = out_path + 'votos_secciones_simp.geojson'\n",
    "    all_parties_simp_census.to_file(output_file, driver='GeoJSON')"
   ]
  },
  {
   "cell_type": "code",
   "execution_count": null,
   "id": "92f40dc4",
   "metadata": {},
   "outputs": [],
   "source": [
    "if save_as_shapefile and save_simplified:\n",
    "    output_file = out_path + 'votos_secciones_simp.shp'\n",
    "    all_parties_simp_census.to_file(output_file, driver=\"ESRI Shapefile\")"
   ]
  },
  {
   "attachments": {},
   "cell_type": "markdown",
   "id": "9b729523",
   "metadata": {},
   "source": [
    "#### 10.3 Filtrado partido más votado"
   ]
  },
  {
   "cell_type": "code",
   "execution_count": 85,
   "id": "60d2e4c7",
   "metadata": {},
   "outputs": [
    {
     "data": {
      "text/html": [
       "<div>\n",
       "<style scoped>\n",
       "    .dataframe tbody tr th:only-of-type {\n",
       "        vertical-align: middle;\n",
       "    }\n",
       "\n",
       "    .dataframe tbody tr th {\n",
       "        vertical-align: top;\n",
       "    }\n",
       "\n",
       "    .dataframe thead th {\n",
       "        text-align: right;\n",
       "    }\n",
       "</style>\n",
       "<table border=\"1\" class=\"dataframe\">\n",
       "  <thead>\n",
       "    <tr style=\"text-align: right;\">\n",
       "      <th></th>\n",
       "      <th>comunidad_autonoma</th>\n",
       "      <th>provincia</th>\n",
       "      <th>provincia_nom</th>\n",
       "      <th>municipio</th>\n",
       "      <th>seccion_censal</th>\n",
       "      <th>partido_simp</th>\n",
       "      <th>votos</th>\n",
       "      <th>porcentaje_voto_secc</th>\n",
       "      <th>geo_seccion_censal</th>\n",
       "      <th>geo_municipio_nom</th>\n",
       "      <th>geo_comunidad_autonoma_nom</th>\n",
       "      <th>geometry</th>\n",
       "    </tr>\n",
       "  </thead>\n",
       "  <tbody>\n",
       "    <tr>\n",
       "      <th>173112</th>\n",
       "      <td>08</td>\n",
       "      <td>42</td>\n",
       "      <td>Soria</td>\n",
       "      <td>42051</td>\n",
       "      <td>4205101001</td>\n",
       "      <td>PP</td>\n",
       "      <td>11</td>\n",
       "      <td>1.0</td>\n",
       "      <td>4205101001</td>\n",
       "      <td>Carabantes</td>\n",
       "      <td>Castilla y León</td>\n",
       "      <td>POLYGON ((586128.571 4599893.258, 585854.569 4...</td>\n",
       "    </tr>\n",
       "    <tr>\n",
       "      <th>207254</th>\n",
       "      <td>08</td>\n",
       "      <td>09</td>\n",
       "      <td>Burgos</td>\n",
       "      <td>09184</td>\n",
       "      <td>0918401001</td>\n",
       "      <td>VOX</td>\n",
       "      <td>1</td>\n",
       "      <td>1.0</td>\n",
       "      <td>0918401001</td>\n",
       "      <td>Jaramillo Quemado</td>\n",
       "      <td>Castilla y León</td>\n",
       "      <td>POLYGON ((473676.338 4660168.347, 473262.332 4...</td>\n",
       "    </tr>\n",
       "    <tr>\n",
       "      <th>118305</th>\n",
       "      <td>14</td>\n",
       "      <td>20</td>\n",
       "      <td>Gipuzkoa</td>\n",
       "      <td>20060</td>\n",
       "      <td>2006001001</td>\n",
       "      <td>EUSKAL HERRIA BILDU</td>\n",
       "      <td>62</td>\n",
       "      <td>1.0</td>\n",
       "      <td>2006001001</td>\n",
       "      <td>Orexa</td>\n",
       "      <td>País Vasco</td>\n",
       "      <td>POLYGON ((581558.582 4772554.186, 581572.332 4...</td>\n",
       "    </tr>\n",
       "  </tbody>\n",
       "</table>\n",
       "</div>"
      ],
      "text/plain": [
       "       comunidad_autonoma provincia provincia_nom municipio seccion_censal  \\\n",
       "173112                 08        42         Soria     42051     4205101001   \n",
       "207254                 08        09        Burgos     09184     0918401001   \n",
       "118305                 14        20      Gipuzkoa     20060     2006001001   \n",
       "\n",
       "               partido_simp  votos  porcentaje_voto_secc geo_seccion_censal  \\\n",
       "173112                   PP     11                   1.0         4205101001   \n",
       "207254                  VOX      1                   1.0         0918401001   \n",
       "118305  EUSKAL HERRIA BILDU     62                   1.0         2006001001   \n",
       "\n",
       "        geo_municipio_nom geo_comunidad_autonoma_nom  \\\n",
       "173112         Carabantes            Castilla y León   \n",
       "207254  Jaramillo Quemado            Castilla y León   \n",
       "118305              Orexa                 País Vasco   \n",
       "\n",
       "                                                 geometry  \n",
       "173112  POLYGON ((586128.571 4599893.258, 585854.569 4...  \n",
       "207254  POLYGON ((473676.338 4660168.347, 473262.332 4...  \n",
       "118305  POLYGON ((581558.582 4772554.186, 581572.332 4...  "
      ]
     },
     "execution_count": 85,
     "metadata": {},
     "output_type": "execute_result"
    }
   ],
   "source": [
    "win_partie_census.head(3)"
   ]
  },
  {
   "cell_type": "code",
   "execution_count": 83,
   "id": "e1c6b066",
   "metadata": {},
   "outputs": [
    {
     "data": {
      "text/html": [
       "<div>\n",
       "<style scoped>\n",
       "    .dataframe tbody tr th:only-of-type {\n",
       "        vertical-align: middle;\n",
       "    }\n",
       "\n",
       "    .dataframe tbody tr th {\n",
       "        vertical-align: top;\n",
       "    }\n",
       "\n",
       "    .dataframe thead th {\n",
       "        text-align: right;\n",
       "    }\n",
       "</style>\n",
       "<table border=\"1\" class=\"dataframe\">\n",
       "  <thead>\n",
       "    <tr style=\"text-align: right;\">\n",
       "      <th></th>\n",
       "      <th>comunidad_autonoma</th>\n",
       "      <th>provincia</th>\n",
       "      <th>provincia_nom</th>\n",
       "      <th>municipio</th>\n",
       "      <th>seccion_censal</th>\n",
       "      <th>partido_simp</th>\n",
       "      <th>votos</th>\n",
       "      <th>porcentaje_voto_secc</th>\n",
       "      <th>geo_seccion_censal</th>\n",
       "      <th>geo_municipio_nom</th>\n",
       "      <th>geo_comunidad_autonoma_nom</th>\n",
       "      <th>geometry</th>\n",
       "    </tr>\n",
       "  </thead>\n",
       "  <tbody>\n",
       "    <tr>\n",
       "      <th>173112</th>\n",
       "      <td>08</td>\n",
       "      <td>42</td>\n",
       "      <td>Soria</td>\n",
       "      <td>42051</td>\n",
       "      <td>4205101001</td>\n",
       "      <td>PP</td>\n",
       "      <td>11</td>\n",
       "      <td>1.0</td>\n",
       "      <td>4205101001</td>\n",
       "      <td>Carabantes</td>\n",
       "      <td>Castilla y León</td>\n",
       "      <td>POLYGON ((586128.571 4599893.258, 585854.569 4...</td>\n",
       "    </tr>\n",
       "    <tr>\n",
       "      <th>207254</th>\n",
       "      <td>08</td>\n",
       "      <td>09</td>\n",
       "      <td>Burgos</td>\n",
       "      <td>09184</td>\n",
       "      <td>0918401001</td>\n",
       "      <td>VOX</td>\n",
       "      <td>1</td>\n",
       "      <td>1.0</td>\n",
       "      <td>0918401001</td>\n",
       "      <td>Jaramillo Quemado</td>\n",
       "      <td>Castilla y León</td>\n",
       "      <td>POLYGON ((473676.338 4660168.347, 473262.332 4...</td>\n",
       "    </tr>\n",
       "    <tr>\n",
       "      <th>118305</th>\n",
       "      <td>14</td>\n",
       "      <td>20</td>\n",
       "      <td>Gipuzkoa</td>\n",
       "      <td>20060</td>\n",
       "      <td>2006001001</td>\n",
       "      <td>EUSKAL HERRIA BILDU</td>\n",
       "      <td>62</td>\n",
       "      <td>1.0</td>\n",
       "      <td>2006001001</td>\n",
       "      <td>Orexa</td>\n",
       "      <td>País Vasco</td>\n",
       "      <td>POLYGON ((581558.582 4772554.186, 581572.332 4...</td>\n",
       "    </tr>\n",
       "  </tbody>\n",
       "</table>\n",
       "</div>"
      ],
      "text/plain": [
       "       comunidad_autonoma provincia provincia_nom municipio seccion_censal  \\\n",
       "173112                 08        42         Soria     42051     4205101001   \n",
       "207254                 08        09        Burgos     09184     0918401001   \n",
       "118305                 14        20      Gipuzkoa     20060     2006001001   \n",
       "\n",
       "               partido_simp  votos  porcentaje_voto_secc geo_seccion_censal  \\\n",
       "173112                   PP     11                   1.0         4205101001   \n",
       "207254                  VOX      1                   1.0         0918401001   \n",
       "118305  EUSKAL HERRIA BILDU     62                   1.0         2006001001   \n",
       "\n",
       "        geo_municipio_nom geo_comunidad_autonoma_nom  \\\n",
       "173112         Carabantes            Castilla y León   \n",
       "207254  Jaramillo Quemado            Castilla y León   \n",
       "118305              Orexa                 País Vasco   \n",
       "\n",
       "                                                 geometry  \n",
       "173112  POLYGON ((586128.571 4599893.258, 585854.569 4...  \n",
       "207254  POLYGON ((473676.338 4660168.347, 473262.332 4...  \n",
       "118305  POLYGON ((581558.582 4772554.186, 581572.332 4...  "
      ]
     },
     "execution_count": 83,
     "metadata": {},
     "output_type": "execute_result"
    }
   ],
   "source": [
    "win_partie_census = all_parties_simp_census.sort_values(by=['porcentaje_voto_secc'], ascending=False)\n",
    "win_partie_census = win_partie_census.drop_duplicates(subset=['comunidad_autonoma', 'provincia', 'provincia_nom', 'municipio', 'seccion_censal',\n",
    "                                           'geo_seccion_censal', 'geo_municipio_nom', 'geo_comunidad_autonoma_nom', 'geometry'])\n",
    "win_partie_census.head(3)"
   ]
  },
  {
   "cell_type": "code",
   "execution_count": 87,
   "id": "cb1c6ab3",
   "metadata": {},
   "outputs": [
    {
     "data": {
      "text/html": [
       "<div>\n",
       "<style scoped>\n",
       "    .dataframe tbody tr th:only-of-type {\n",
       "        vertical-align: middle;\n",
       "    }\n",
       "\n",
       "    .dataframe tbody tr th {\n",
       "        vertical-align: top;\n",
       "    }\n",
       "\n",
       "    .dataframe thead th {\n",
       "        text-align: right;\n",
       "    }\n",
       "</style>\n",
       "<table border=\"1\" class=\"dataframe\">\n",
       "  <thead>\n",
       "    <tr style=\"text-align: right;\">\n",
       "      <th></th>\n",
       "      <th>comunidad_autonoma</th>\n",
       "      <th>provincia</th>\n",
       "      <th>provincia_nom</th>\n",
       "      <th>municipio</th>\n",
       "      <th>seccion_censal</th>\n",
       "      <th>partido_simp</th>\n",
       "      <th>votos</th>\n",
       "      <th>porcentaje_voto_secc</th>\n",
       "      <th>geo_seccion_censal</th>\n",
       "      <th>geo_municipio_nom</th>\n",
       "      <th>geo_comunidad_autonoma_nom</th>\n",
       "      <th>geometry</th>\n",
       "    </tr>\n",
       "  </thead>\n",
       "  <tbody>\n",
       "    <tr>\n",
       "      <th>118305</th>\n",
       "      <td>14</td>\n",
       "      <td>20</td>\n",
       "      <td>Gipuzkoa</td>\n",
       "      <td>20060</td>\n",
       "      <td>2006001001</td>\n",
       "      <td>EUSKAL HERRIA BILDU</td>\n",
       "      <td>62</td>\n",
       "      <td>1.0</td>\n",
       "      <td>2006001001</td>\n",
       "      <td>Orexa</td>\n",
       "      <td>País Vasco</td>\n",
       "      <td>POLYGON ((581558.582 4772554.186, 581572.332 4...</td>\n",
       "    </tr>\n",
       "  </tbody>\n",
       "</table>\n",
       "</div>"
      ],
      "text/plain": [
       "       comunidad_autonoma provincia provincia_nom municipio seccion_censal  \\\n",
       "118305                 14        20      Gipuzkoa     20060     2006001001   \n",
       "\n",
       "               partido_simp  votos  porcentaje_voto_secc geo_seccion_censal  \\\n",
       "118305  EUSKAL HERRIA BILDU     62                   1.0         2006001001   \n",
       "\n",
       "       geo_municipio_nom geo_comunidad_autonoma_nom  \\\n",
       "118305             Orexa                 País Vasco   \n",
       "\n",
       "                                                 geometry  \n",
       "118305  POLYGON ((581558.582 4772554.186, 581572.332 4...  "
      ]
     },
     "execution_count": 87,
     "metadata": {},
     "output_type": "execute_result"
    }
   ],
   "source": [
    "win_partie_census[win_partie_census['geo_seccion_censal']=='2006001001']"
   ]
  },
  {
   "cell_type": "code",
   "execution_count": null,
   "id": "1b7432c4",
   "metadata": {},
   "outputs": [],
   "source": [
    "# Guardar el GeoDataFrame como GeoJSON\n",
    "if save_as_geojson and save_winner:\n",
    "    output_file = out_path + 'votos_ganador.geojson'\n",
    "    win_partie_census.to_file(output_file, driver='GeoJSON')"
   ]
  },
  {
   "cell_type": "code",
   "execution_count": 88,
   "id": "bc9f30b8",
   "metadata": {},
   "outputs": [
    {
     "name": "stderr",
     "output_type": "stream",
     "text": [
      "C:\\Users\\lopez\\AppData\\Local\\Temp\\ipykernel_24376\\1510332767.py:3: UserWarning: Column names longer than 10 characters will be truncated when saved to ESRI Shapefile.\n",
      "  win_partie_census.to_file(output_file, driver=\"ESRI Shapefile\")\n"
     ]
    }
   ],
   "source": [
    "if save_as_shapefile and save_winner:\n",
    "    output_file = out_path + 'votos_ganador.shp'\n",
    "    win_partie_census.to_file(output_file, driver=\"ESRI Shapefile\")"
   ]
  },
  {
   "cell_type": "code",
   "execution_count": null,
   "id": "e0ae6f0f",
   "metadata": {},
   "outputs": [],
   "source": []
  },
  {
   "cell_type": "code",
   "execution_count": null,
   "id": "a8109658",
   "metadata": {},
   "outputs": [],
   "source": []
  },
  {
   "cell_type": "code",
   "execution_count": null,
   "id": "0e2b5260",
   "metadata": {},
   "outputs": [],
   "source": []
  },
  {
   "cell_type": "code",
   "execution_count": null,
   "id": "1af5d52c",
   "metadata": {},
   "outputs": [],
   "source": []
  },
  {
   "cell_type": "code",
   "execution_count": null,
   "id": "faf61dab",
   "metadata": {},
   "outputs": [],
   "source": []
  },
  {
   "cell_type": "code",
   "execution_count": null,
   "id": "48783ac5",
   "metadata": {},
   "outputs": [],
   "source": []
  },
  {
   "cell_type": "code",
   "execution_count": null,
   "id": "3249db8e",
   "metadata": {},
   "outputs": [],
   "source": []
  },
  {
   "cell_type": "code",
   "execution_count": null,
   "id": "6ff32221",
   "metadata": {},
   "outputs": [],
   "source": []
  },
  {
   "cell_type": "code",
   "execution_count": null,
   "id": "92a5e4ce",
   "metadata": {},
   "outputs": [],
   "source": []
  }
 ],
 "metadata": {
  "kernelspec": {
   "display_name": "Python 3 (ipykernel)",
   "language": "python",
   "name": "python3"
  },
  "language_info": {
   "codemirror_mode": {
    "name": "ipython",
    "version": 3
   },
   "file_extension": ".py",
   "mimetype": "text/x-python",
   "name": "python",
   "nbconvert_exporter": "python",
   "pygments_lexer": "ipython3",
   "version": "3.10.13"
  }
 },
 "nbformat": 4,
 "nbformat_minor": 5
}
